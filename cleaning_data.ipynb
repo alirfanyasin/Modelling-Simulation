{
 "cells": [
  {
   "cell_type": "code",
   "execution_count": 168,
   "outputs": [],
   "source": [
    "import pandas as pd\n",
    "from modsim import *\n",
    "import matplotlib.pyplot as plt\n",
    "import numpy as np"
   ],
   "metadata": {
    "collapsed": false,
    "ExecuteTime": {
     "end_time": "2024-05-21T15:09:21.720150600Z",
     "start_time": "2024-05-21T15:09:21.706063700Z"
    }
   },
   "id": "41341a922e37988"
  },
  {
   "cell_type": "code",
   "execution_count": 169,
   "outputs": [],
   "source": [
    "# install Pint if necessary\n",
    "try:\n",
    "  from pint import UnitRegistry\n",
    "except ImportError:\n",
    "  !pip install pint"
   ],
   "metadata": {
    "collapsed": false,
    "ExecuteTime": {
     "end_time": "2024-05-21T15:09:21.760516Z",
     "start_time": "2024-05-21T15:09:21.717635300Z"
    }
   },
   "id": "d672ae31-2320-429f-b68a-bebe6a5606eb"
  },
  {
   "cell_type": "code",
   "execution_count": 170,
   "outputs": [],
   "source": [
    "# download modsim.py if necessary\n",
    "\n",
    "from os.path import basename, exists\n",
    "\n",
    "\n",
    "def download(url):\n",
    "  filename = basename(url)\n",
    "  if not exists(filename):\n",
    "    from urllib.request import urlretrieve\n",
    "    local, _ = urlretrieve(url, filename)\n",
    "    print('Downloaded ' + local)\n",
    "\n",
    "\n",
    "download('https://github.com/AllenDowney/ModSimPy/raw/master/' +\n",
    "         'modsim.py')"
   ],
   "metadata": {
    "collapsed": false,
    "ExecuteTime": {
     "end_time": "2024-05-21T15:09:21.765530500Z",
     "start_time": "2024-05-21T15:09:21.733335700Z"
    }
   },
   "id": "c7c321af-bef6-4817-938e-b456e3b762e3"
  },
  {
   "cell_type": "code",
   "execution_count": 171,
   "id": "59bd4401-93f3-4d67-a75d-a269be47b8a0",
   "metadata": {
    "ExecuteTime": {
     "end_time": "2024-05-21T15:09:22.741581200Z",
     "start_time": "2024-05-21T15:09:21.746908600Z"
    }
   },
   "outputs": [
    {
     "name": "stderr",
     "output_type": "stream",
     "text": [
      "C:\\Users\\katana\\AppData\\Local\\Temp\\ipykernel_12596\\2091496989.py:12: DtypeWarning: Columns (4,5) have mixed types. Specify dtype option on import or set low_memory=False.\n",
      "  df = pd.read_csv(file_path)\n"
     ]
    }
   ],
   "source": [
    "# Menghapus kolom yang tidak diperlukan\n",
    "data_have_index = [\n",
    "  \"sample/anxiety-disorders-males-vs-females.csv\",\n",
    "  \"sample/bipolar-disorder-in-males-vs-females.csv\",\n",
    "  \"sample/depression-males-vs-females.csv\",\n",
    "  \"sample/eating-disorders-in-males-vs-females.csv\",\n",
    "  \"sample/Mental health Depression disorder Data.csv\",\n",
    "  \"sample/schizophrenia-in-males-vs-females.csv\"\n",
    "]\n",
    "\n",
    "for file_path in data_have_index:\n",
    "  df = pd.read_csv(file_path)\n",
    "  if 'index' in df.columns:\n",
    "    df = df.drop('index', axis=1)\n",
    "  df.to_csv(file_path, index=False)"
   ]
  },
  {
   "cell_type": "code",
   "execution_count": 172,
   "outputs": [
    {
     "name": "stderr",
     "output_type": "stream",
     "text": [
      "C:\\Users\\katana\\AppData\\Local\\Temp\\ipykernel_12596\\1967768737.py:2: FutureWarning: The default value of numeric_only in DataFrameGroupBy.mean is deprecated. In a future version, numeric_only will default to False. Either specify numeric_only or select only columns which should be valid for the function.\n",
      "  df_grouped_bundir = df_grouped_bundir.groupby('Year').mean().reset_index()\n"
     ]
    }
   ],
   "source": [
    "df_grouped_bundir = pd.read_csv(\"sample/suicide-rates-among-young-people.csv\")\n",
    "df_grouped_bundir = df_grouped_bundir.groupby('Year').mean().reset_index()"
   ],
   "metadata": {
    "collapsed": false,
    "ExecuteTime": {
     "end_time": "2024-05-21T15:09:22.762429200Z",
     "start_time": "2024-05-21T15:09:22.743583200Z"
    }
   },
   "id": "1b30c0037289c0a"
  },
  {
   "cell_type": "code",
   "execution_count": 173,
   "outputs": [
    {
     "data": {
      "text/plain": "Index(['Year',\n       'Death rate per 100,000 people - Cause: Self-harm - Sex: Both sexes - Age group: YEARS15-19',\n       'Death rate per 100,000 people - Cause: Self-harm - Sex: Both sexes - Age group: YEARS20-24',\n       'Death rate per 100,000 people - Cause: Self-harm - Sex: Both sexes - Age group: YEARS25-34'],\n      dtype='object')"
     },
     "execution_count": 173,
     "metadata": {},
     "output_type": "execute_result"
    }
   ],
   "source": [
    "df_grouped_bundir.columns"
   ],
   "metadata": {
    "collapsed": false,
    "ExecuteTime": {
     "end_time": "2024-05-21T15:09:22.803073600Z",
     "start_time": "2024-05-21T15:09:22.759396400Z"
    }
   },
   "id": "d57ecf3ffd5f2e5d"
  },
  {
   "cell_type": "code",
   "execution_count": 174,
   "outputs": [
    {
     "name": "stdout",
     "output_type": "stream",
     "text": [
      "Minimal: Percentage_Bundir    0.008697\n",
      "dtype: float64\n",
      "Maximal: Percentage_Bundir    0.011785\n",
      "dtype: float64\n"
     ]
    }
   ],
   "source": [
    "df_grouped_bundir['Change_15_19'] = df_grouped_bundir[\n",
    "  'Death rate per 100,000 people - Cause: Self-harm - Sex: Both sexes - Age group: YEARS15-19']\n",
    "df_grouped_bundir['Change_20_24'] = df_grouped_bundir[\n",
    "  'Death rate per 100,000 people - Cause: Self-harm - Sex: Both sexes - Age group: YEARS20-24']\n",
    "df_grouped_bundir['Change_25_34'] = df_grouped_bundir[\n",
    "  'Death rate per 100,000 people - Cause: Self-harm - Sex: Both sexes - Age group: YEARS25-34']\n",
    "\n",
    "df_grouped_bundir['Percentage_Bundir'] = ((df_grouped_bundir[\n",
    "                                             'Death rate per 100,000 people - Cause: Self-harm - Sex: Both sexes - Age group: YEARS15-19'] +\n",
    "                                           df_grouped_bundir[\n",
    "                                             'Death rate per 100,000 people - Cause: Self-harm - Sex: Both sexes - Age group: YEARS20-24'] +\n",
    "                                           df_grouped_bundir[\n",
    "                                             'Death rate per 100,000 people - Cause: Self-harm - Sex: Both sexes - Age group: YEARS25-34']) / 300000) * 100\n",
    "\n",
    "print(f\"Minimal: {df_grouped_bundir[['Percentage_Bundir']].min()}\")\n",
    "print(f\"Maximal: {df_grouped_bundir[['Percentage_Bundir']].max()}\")"
   ],
   "metadata": {
    "collapsed": false,
    "ExecuteTime": {
     "end_time": "2024-05-21T15:09:22.808055Z",
     "start_time": "2024-05-21T15:09:22.778142700Z"
    }
   },
   "id": "6812dbfbeb333d46"
  },
  {
   "cell_type": "code",
   "execution_count": 175,
   "outputs": [
    {
     "data": {
      "text/plain": "Year\n1990    8.472961\n1991    8.476949\n1992    8.481219\n1993    8.485451\n1994    8.489253\n1995    8.492198\n1996    8.500666\n1997    8.517987\n1998    8.539018\n1999    8.558562\n2000    8.571391\n2001    8.578129\n2002    8.583464\n2003    8.588046\n2004    8.592405\n2005    8.596979\n2006    8.609538\n2007    8.633257\n2008    8.661363\n2009    8.687044\n2010    8.703351\n2011    8.713342\n2012    8.724362\n2013    8.735729\n2014    8.746679\n2015    8.756330\n2016    8.762154\n2017    8.765891\ndtype: float64"
     },
     "execution_count": 175,
     "metadata": {},
     "output_type": "execute_result"
    }
   ],
   "source": [
    "# Anxiety\n",
    "df_anxiety = pd.read_csv(\"sample/anxiety-disorders-males-vs-females.csv\")\n",
    "df_anxiety = df_anxiety.rename(\n",
    "  columns={'Prevalence - Anxiety disorders - Sex: Female - Age: Age-standardized (Percent)': 'Anxiety_Female',\n",
    "           'Prevalence - Anxiety disorders - Sex: Male - Age: Age-standardized (Percent)': 'Anxiety_Male'})\n",
    "\n",
    "df_anxiety_filtered = df_anxiety[(df_anxiety['Year'] >= 1990) & (df_anxiety['Year'] <= 2017)]\n",
    "\n",
    "df_anxiety_mean = df_anxiety_filtered.groupby('Year').agg({\n",
    "  'Anxiety_Male': 'mean',\n",
    "  'Anxiety_Female': 'mean'\n",
    "})\n",
    "\n",
    "total_df_anxiety_mean = df_anxiety_mean['Anxiety_Female'] + df_anxiety_mean['Anxiety_Male']\n",
    "\n",
    "total_df_anxiety_mean\n"
   ],
   "metadata": {
    "collapsed": false,
    "ExecuteTime": {
     "end_time": "2024-05-21T15:09:22.871002300Z",
     "start_time": "2024-05-21T15:09:22.791951800Z"
    }
   },
   "id": "a11e2be3ce37dfc9"
  },
  {
   "cell_type": "code",
   "execution_count": 176,
   "outputs": [
    {
     "data": {
      "text/plain": "Year\n1990    1.335648\n1991    1.336212\n1992    1.336802\n1993    1.337388\n1994    1.337954\n1995    1.338479\n1996    1.338982\n1997    1.339516\n1998    1.340072\n1999    1.340633\n2000    1.341185\n2001    1.342255\n2002    1.344090\n2003    1.346201\n2004    1.348083\n2005    1.349213\n2006    1.349815\n2007    1.350491\n2008    1.351194\n2009    1.351865\n2010    1.352427\n2011    1.352945\n2012    1.353534\n2013    1.354148\n2014    1.354732\n2015    1.355223\n2016    1.355640\n2017    1.356047\ndtype: float64"
     },
     "execution_count": 176,
     "metadata": {},
     "output_type": "execute_result"
    }
   ],
   "source": [
    "#Bipolar\n",
    "df_bipolar = pd.read_csv(\"sample/bipolar-disorder-in-males-vs-females.csv\")\n",
    "df_bipolar = df_bipolar.rename(\n",
    "  columns={'Prevalence - Bipolar disorder - Sex: Male - Age: Age-standardized (Percent)': 'Bipolar_Male',\n",
    "           'Prevalence - Bipolar disorder - Sex: Female - Age: Age-standardized (Percent)': 'Bipolar_Female'})\n",
    "\n",
    "df_bipolar_filtered = df_bipolar[(df_bipolar['Year'] >= 1990) & (df_bipolar['Year'] <= 2017)]\n",
    "\n",
    "df_bipolar_mean = df_bipolar_filtered.groupby('Year').agg({\n",
    "  'Bipolar_Male': 'mean',\n",
    "  'Bipolar_Female': 'mean'\n",
    "})\n",
    "\n",
    "total_df_bipolar_mean = df_bipolar_mean['Bipolar_Male'] + df_bipolar_mean['Bipolar_Female']\n",
    "\n",
    "total_df_bipolar_mean"
   ],
   "metadata": {
    "collapsed": false,
    "ExecuteTime": {
     "end_time": "2024-05-21T15:09:22.903140200Z",
     "start_time": "2024-05-21T15:09:22.852880100Z"
    }
   },
   "id": "fa82bf0b920b2c0c"
  },
  {
   "cell_type": "code",
   "execution_count": 187,
   "outputs": [
    {
     "data": {
      "text/plain": "Year\n1990    7.914651\n1991    7.914349\n1992    7.914588\n1993    7.915142\n1994    7.916107\n1995    7.917522\n1996    7.922799\n1997    7.933081\n1998    7.944269\n1999    7.952575\n2000    7.954099\n2001    7.948923\n2002    7.940162\n2003    7.928963\n2004    7.916635\n2005    7.904365\n2006    7.884976\n2007    7.854854\n2008    7.822119\n2009    7.794169\n2010    7.778017\n2011    7.771880\n2012    7.767307\n2013    7.764528\n2014    7.762887\n2015    7.762909\n2016    7.762051\n2017    7.762562\ndtype: float64"
     },
     "execution_count": 187,
     "metadata": {},
     "output_type": "execute_result"
    }
   ],
   "source": [
    "#Depression\n",
    "df_depression = pd.read_csv(\"sample/depression-males-vs-females.csv\")\n",
    "df_depression = df_depression.rename(\n",
    "  columns={'Prevalence - Depressive disorders - Sex: Female - Age: Age-standardized (Percent)' : 'Depression_Female', 'Prevalence - Depressive disorders - Sex: Male - Age: Age-standardized (Percent)' : 'Depression_Male'})\n",
    "\n",
    "df_depression_filtered = df_depression[(df_depression['Year'] >= 1990) & (df_depression['Year'] <= 2017)]\n",
    "\n",
    "df_depression_mean = df_depression_filtered.groupby('Year').agg({\n",
    "  'Depression_Male': 'mean',\n",
    "  'Depression_Female': 'mean'\n",
    "})\n",
    "\n",
    "total_df_depression_mean = df_depression_mean['Depression_Male'] + df_depression_mean['Depression_Female']\n",
    "\n",
    "total_df_depression_mean"
   ],
   "metadata": {
    "collapsed": false,
    "ExecuteTime": {
     "end_time": "2024-05-21T15:11:39.338305400Z",
     "start_time": "2024-05-21T15:11:39.273044Z"
    }
   },
   "id": "81d15efaf263ec1c"
  },
  {
   "cell_type": "code",
   "execution_count": 186,
   "outputs": [
    {
     "ename": "KeyError",
     "evalue": "\"Column(s) ['Depression_Female', 'Depression_Male'] do not exist\"",
     "output_type": "error",
     "traceback": [
      "\u001B[1;31m---------------------------------------------------------------------------\u001B[0m",
      "\u001B[1;31mKeyError\u001B[0m                                  Traceback (most recent call last)",
      "Cell \u001B[1;32mIn[186], line 1\u001B[0m\n\u001B[1;32m----> 1\u001B[0m df_depression_mean \u001B[38;5;241m=\u001B[39m \u001B[43mdf_depression_filtered\u001B[49m\u001B[38;5;241;43m.\u001B[39;49m\u001B[43mgroupby\u001B[49m\u001B[43m(\u001B[49m\u001B[38;5;124;43m'\u001B[39;49m\u001B[38;5;124;43mYear\u001B[39;49m\u001B[38;5;124;43m'\u001B[39;49m\u001B[43m)\u001B[49m\u001B[38;5;241;43m.\u001B[39;49m\u001B[43magg\u001B[49m\u001B[43m(\u001B[49m\u001B[43m{\u001B[49m\n\u001B[0;32m      2\u001B[0m \u001B[43m  \u001B[49m\u001B[38;5;124;43m'\u001B[39;49m\u001B[38;5;124;43mDepression_Male\u001B[39;49m\u001B[38;5;124;43m'\u001B[39;49m\u001B[43m:\u001B[49m\u001B[43m \u001B[49m\u001B[38;5;124;43m'\u001B[39;49m\u001B[38;5;124;43mmean\u001B[39;49m\u001B[38;5;124;43m'\u001B[39;49m\u001B[43m,\u001B[49m\n\u001B[0;32m      3\u001B[0m \u001B[43m  \u001B[49m\u001B[38;5;124;43m'\u001B[39;49m\u001B[38;5;124;43mDepression_Female\u001B[39;49m\u001B[38;5;124;43m'\u001B[39;49m\u001B[43m:\u001B[49m\u001B[43m \u001B[49m\u001B[38;5;124;43m'\u001B[39;49m\u001B[38;5;124;43mmean\u001B[39;49m\u001B[38;5;124;43m'\u001B[39;49m\n\u001B[0;32m      4\u001B[0m \u001B[43m}\u001B[49m\u001B[43m)\u001B[49m\n",
      "File \u001B[1;32m~\\miniconda3\\envs\\modsim\\lib\\site-packages\\pandas\\core\\groupby\\generic.py:895\u001B[0m, in \u001B[0;36mDataFrameGroupBy.aggregate\u001B[1;34m(self, func, engine, engine_kwargs, *args, **kwargs)\u001B[0m\n\u001B[0;32m    892\u001B[0m func \u001B[38;5;241m=\u001B[39m maybe_mangle_lambdas(func)\n\u001B[0;32m    894\u001B[0m op \u001B[38;5;241m=\u001B[39m GroupByApply(\u001B[38;5;28mself\u001B[39m, func, args, kwargs)\n\u001B[1;32m--> 895\u001B[0m result \u001B[38;5;241m=\u001B[39m \u001B[43mop\u001B[49m\u001B[38;5;241;43m.\u001B[39;49m\u001B[43magg\u001B[49m\u001B[43m(\u001B[49m\u001B[43m)\u001B[49m\n\u001B[0;32m    896\u001B[0m \u001B[38;5;28;01mif\u001B[39;00m \u001B[38;5;129;01mnot\u001B[39;00m is_dict_like(func) \u001B[38;5;129;01mand\u001B[39;00m result \u001B[38;5;129;01mis\u001B[39;00m \u001B[38;5;129;01mnot\u001B[39;00m \u001B[38;5;28;01mNone\u001B[39;00m:\n\u001B[0;32m    897\u001B[0m     \u001B[38;5;28;01mreturn\u001B[39;00m result\n",
      "File \u001B[1;32m~\\miniconda3\\envs\\modsim\\lib\\site-packages\\pandas\\core\\apply.py:172\u001B[0m, in \u001B[0;36mApply.agg\u001B[1;34m(self)\u001B[0m\n\u001B[0;32m    169\u001B[0m     \u001B[38;5;28;01mreturn\u001B[39;00m \u001B[38;5;28mself\u001B[39m\u001B[38;5;241m.\u001B[39mapply_str()\n\u001B[0;32m    171\u001B[0m \u001B[38;5;28;01mif\u001B[39;00m is_dict_like(arg):\n\u001B[1;32m--> 172\u001B[0m     \u001B[38;5;28;01mreturn\u001B[39;00m \u001B[38;5;28;43mself\u001B[39;49m\u001B[38;5;241;43m.\u001B[39;49m\u001B[43magg_dict_like\u001B[49m\u001B[43m(\u001B[49m\u001B[43m)\u001B[49m\n\u001B[0;32m    173\u001B[0m \u001B[38;5;28;01melif\u001B[39;00m is_list_like(arg):\n\u001B[0;32m    174\u001B[0m     \u001B[38;5;66;03m# we require a list, but not a 'str'\u001B[39;00m\n\u001B[0;32m    175\u001B[0m     \u001B[38;5;28;01mreturn\u001B[39;00m \u001B[38;5;28mself\u001B[39m\u001B[38;5;241m.\u001B[39magg_list_like()\n",
      "File \u001B[1;32m~\\miniconda3\\envs\\modsim\\lib\\site-packages\\pandas\\core\\apply.py:496\u001B[0m, in \u001B[0;36mApply.agg_dict_like\u001B[1;34m(self)\u001B[0m\n\u001B[0;32m    493\u001B[0m     selected_obj \u001B[38;5;241m=\u001B[39m obj\u001B[38;5;241m.\u001B[39m_selected_obj\n\u001B[0;32m    494\u001B[0m     selection \u001B[38;5;241m=\u001B[39m obj\u001B[38;5;241m.\u001B[39m_selection\n\u001B[1;32m--> 496\u001B[0m arg \u001B[38;5;241m=\u001B[39m \u001B[38;5;28;43mself\u001B[39;49m\u001B[38;5;241;43m.\u001B[39;49m\u001B[43mnormalize_dictlike_arg\u001B[49m\u001B[43m(\u001B[49m\u001B[38;5;124;43m\"\u001B[39;49m\u001B[38;5;124;43magg\u001B[39;49m\u001B[38;5;124;43m\"\u001B[39;49m\u001B[43m,\u001B[49m\u001B[43m \u001B[49m\u001B[43mselected_obj\u001B[49m\u001B[43m,\u001B[49m\u001B[43m \u001B[49m\u001B[43marg\u001B[49m\u001B[43m)\u001B[49m\n\u001B[0;32m    498\u001B[0m \u001B[38;5;28;01mif\u001B[39;00m selected_obj\u001B[38;5;241m.\u001B[39mndim \u001B[38;5;241m==\u001B[39m \u001B[38;5;241m1\u001B[39m:\n\u001B[0;32m    499\u001B[0m     \u001B[38;5;66;03m# key only used for output\u001B[39;00m\n\u001B[0;32m    500\u001B[0m     colg \u001B[38;5;241m=\u001B[39m obj\u001B[38;5;241m.\u001B[39m_gotitem(selection, ndim\u001B[38;5;241m=\u001B[39m\u001B[38;5;241m1\u001B[39m)\n",
      "File \u001B[1;32m~\\miniconda3\\envs\\modsim\\lib\\site-packages\\pandas\\core\\apply.py:619\u001B[0m, in \u001B[0;36mApply.normalize_dictlike_arg\u001B[1;34m(self, how, obj, func)\u001B[0m\n\u001B[0;32m    617\u001B[0m     \u001B[38;5;28;01mif\u001B[39;00m \u001B[38;5;28mlen\u001B[39m(cols) \u001B[38;5;241m>\u001B[39m \u001B[38;5;241m0\u001B[39m:\n\u001B[0;32m    618\u001B[0m         cols_sorted \u001B[38;5;241m=\u001B[39m \u001B[38;5;28mlist\u001B[39m(safe_sort(\u001B[38;5;28mlist\u001B[39m(cols)))\n\u001B[1;32m--> 619\u001B[0m         \u001B[38;5;28;01mraise\u001B[39;00m \u001B[38;5;167;01mKeyError\u001B[39;00m(\u001B[38;5;124mf\u001B[39m\u001B[38;5;124m\"\u001B[39m\u001B[38;5;124mColumn(s) \u001B[39m\u001B[38;5;132;01m{\u001B[39;00mcols_sorted\u001B[38;5;132;01m}\u001B[39;00m\u001B[38;5;124m do not exist\u001B[39m\u001B[38;5;124m\"\u001B[39m)\n\u001B[0;32m    621\u001B[0m aggregator_types \u001B[38;5;241m=\u001B[39m (\u001B[38;5;28mlist\u001B[39m, \u001B[38;5;28mtuple\u001B[39m, \u001B[38;5;28mdict\u001B[39m)\n\u001B[0;32m    623\u001B[0m \u001B[38;5;66;03m# if we have a dict of any non-scalars\u001B[39;00m\n\u001B[0;32m    624\u001B[0m \u001B[38;5;66;03m# eg. {'A' : ['mean']}, normalize all to\u001B[39;00m\n\u001B[0;32m    625\u001B[0m \u001B[38;5;66;03m# be list-likes\u001B[39;00m\n\u001B[0;32m    626\u001B[0m \u001B[38;5;66;03m# Cannot use func.values() because arg may be a Series\u001B[39;00m\n",
      "\u001B[1;31mKeyError\u001B[0m: \"Column(s) ['Depression_Female', 'Depression_Male'] do not exist\""
     ]
    }
   ],
   "source": [],
   "metadata": {
    "collapsed": false,
    "ExecuteTime": {
     "end_time": "2024-05-21T15:10:29.782909900Z",
     "start_time": "2024-05-21T15:10:29.721845Z"
    }
   },
   "id": "2836513d0bb3928b"
  }
 ],
 "metadata": {
  "kernelspec": {
   "display_name": "Python 3 (ipykernel)",
   "language": "python",
   "name": "python3"
  },
  "language_info": {
   "codemirror_mode": {
    "name": "ipython",
    "version": 3
   },
   "file_extension": ".py",
   "mimetype": "text/x-python",
   "name": "python",
   "nbconvert_exporter": "python",
   "pygments_lexer": "ipython3",
   "version": "3.9.16"
  }
 },
 "nbformat": 4,
 "nbformat_minor": 5
}
