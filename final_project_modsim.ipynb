{
 "cells": [
  {
   "cell_type": "code",
   "execution_count": 1,
   "id": "d672ae31-2320-429f-b68a-bebe6a5606eb",
   "metadata": {
    "ExecuteTime": {
     "end_time": "2024-05-14T15:05:42.473758300Z",
     "start_time": "2024-05-14T15:05:41.760026400Z"
    }
   },
   "outputs": [],
   "source": [
    "# install Pint if necessary\n",
    "try:\n",
    "    from pint import UnitRegistry\n",
    "except ImportError:\n",
    "    !pip install pint"
   ]
  },
  {
   "cell_type": "code",
   "execution_count": 2,
   "id": "c7c321af-bef6-4817-938e-b456e3b762e3",
   "metadata": {
    "ExecuteTime": {
     "end_time": "2024-05-14T15:05:43.604390500Z",
     "start_time": "2024-05-14T15:05:43.591873200Z"
    }
   },
   "outputs": [],
   "source": [
    "# download modsim.py if necessary\n",
    "\n",
    "from os.path import basename, exists\n",
    "\n",
    "def download(url):\n",
    "    filename = basename(url)\n",
    "    if not exists(filename):\n",
    "        from urllib.request import urlretrieve\n",
    "        local, _ = urlretrieve(url, filename)\n",
    "        print('Downloaded ' + local)\n",
    "    \n",
    "download('https://github.com/AllenDowney/ModSimPy/raw/master/' +\n",
    "         'modsim.py')"
   ]
  },
  {
   "cell_type": "code",
   "execution_count": 3,
   "id": "092bc72f-3be2-45ca-ab53-cb4e993e8adf",
   "metadata": {
    "ExecuteTime": {
     "end_time": "2024-05-14T15:05:45.948669Z",
     "start_time": "2024-05-14T15:05:45.222610200Z"
    }
   },
   "outputs": [],
   "source": [
    "# import libraries\n",
    "\n",
    "from modsim import *\n",
    "import numpy\n",
    "import pandas as pd"
   ]
  },
  {
   "cell_type": "code",
   "execution_count": 4,
   "id": "244cec1b-d467-4e49-8127-3030b32ac919",
   "metadata": {
    "ExecuteTime": {
     "end_time": "2024-05-14T15:05:46.548017400Z",
     "start_time": "2024-05-14T15:05:46.479828700Z"
    }
   },
   "outputs": [
    {
     "data": {
      "text/plain": "           Entity Code  Year  \\\n0     Afghanistan  AFG  2000   \n1     Afghanistan  AFG  2001   \n2     Afghanistan  AFG  2002   \n3     Afghanistan  AFG  2003   \n4     Afghanistan  AFG  2004   \n...           ...  ...   ...   \n3795     Zimbabwe  ZWE  2015   \n3796     Zimbabwe  ZWE  2016   \n3797     Zimbabwe  ZWE  2017   \n3798     Zimbabwe  ZWE  2018   \n3799     Zimbabwe  ZWE  2019   \n\n      Death rate per 100,000 people - Cause: Self-harm - Sex: Both sexes - Age group: YEARS15-19  \\\n0                                              5.773377                                            \n1                                              6.127417                                            \n2                                              5.736194                                            \n3                                              5.589899                                            \n4                                              5.629840                                            \n...                                                 ...                                            \n3795                                          10.232885                                            \n3796                                           9.983424                                            \n3797                                           9.773547                                            \n3798                                           9.672438                                            \n3799                                           9.739059                                            \n\n      Death rate per 100,000 people - Cause: Self-harm - Sex: Both sexes - Age group: YEARS20-24  \\\n0                                              8.977578                                            \n1                                              9.883379                                            \n2                                              9.926080                                            \n3                                              9.757331                                            \n4                                             10.310462                                            \n...                                                 ...                                            \n3795                                          13.056926                                            \n3796                                          12.505952                                            \n3797                                          12.217892                                            \n3798                                          11.963584                                            \n3799                                          11.731317                                            \n\n      Death rate per 100,000 people - Cause: Self-harm - Sex: Both sexes - Age group: YEARS25-34  \n0                                             10.135592                                           \n1                                             10.808245                                           \n2                                             10.616271                                           \n3                                             10.216901                                           \n4                                             10.593060                                           \n...                                                 ...                                           \n3795                                          17.767336                                           \n3796                                          15.922534                                           \n3797                                          13.057365                                           \n3798                                          12.868393                                           \n3799                                          12.919739                                           \n\n[3800 rows x 6 columns]",
      "text/html": "<div>\n<style scoped>\n    .dataframe tbody tr th:only-of-type {\n        vertical-align: middle;\n    }\n\n    .dataframe tbody tr th {\n        vertical-align: top;\n    }\n\n    .dataframe thead th {\n        text-align: right;\n    }\n</style>\n<table border=\"1\" class=\"dataframe\">\n  <thead>\n    <tr style=\"text-align: right;\">\n      <th></th>\n      <th>Entity</th>\n      <th>Code</th>\n      <th>Year</th>\n      <th>Death rate per 100,000 people - Cause: Self-harm - Sex: Both sexes - Age group: YEARS15-19</th>\n      <th>Death rate per 100,000 people - Cause: Self-harm - Sex: Both sexes - Age group: YEARS20-24</th>\n      <th>Death rate per 100,000 people - Cause: Self-harm - Sex: Both sexes - Age group: YEARS25-34</th>\n    </tr>\n  </thead>\n  <tbody>\n    <tr>\n      <th>0</th>\n      <td>Afghanistan</td>\n      <td>AFG</td>\n      <td>2000</td>\n      <td>5.773377</td>\n      <td>8.977578</td>\n      <td>10.135592</td>\n    </tr>\n    <tr>\n      <th>1</th>\n      <td>Afghanistan</td>\n      <td>AFG</td>\n      <td>2001</td>\n      <td>6.127417</td>\n      <td>9.883379</td>\n      <td>10.808245</td>\n    </tr>\n    <tr>\n      <th>2</th>\n      <td>Afghanistan</td>\n      <td>AFG</td>\n      <td>2002</td>\n      <td>5.736194</td>\n      <td>9.926080</td>\n      <td>10.616271</td>\n    </tr>\n    <tr>\n      <th>3</th>\n      <td>Afghanistan</td>\n      <td>AFG</td>\n      <td>2003</td>\n      <td>5.589899</td>\n      <td>9.757331</td>\n      <td>10.216901</td>\n    </tr>\n    <tr>\n      <th>4</th>\n      <td>Afghanistan</td>\n      <td>AFG</td>\n      <td>2004</td>\n      <td>5.629840</td>\n      <td>10.310462</td>\n      <td>10.593060</td>\n    </tr>\n    <tr>\n      <th>...</th>\n      <td>...</td>\n      <td>...</td>\n      <td>...</td>\n      <td>...</td>\n      <td>...</td>\n      <td>...</td>\n    </tr>\n    <tr>\n      <th>3795</th>\n      <td>Zimbabwe</td>\n      <td>ZWE</td>\n      <td>2015</td>\n      <td>10.232885</td>\n      <td>13.056926</td>\n      <td>17.767336</td>\n    </tr>\n    <tr>\n      <th>3796</th>\n      <td>Zimbabwe</td>\n      <td>ZWE</td>\n      <td>2016</td>\n      <td>9.983424</td>\n      <td>12.505952</td>\n      <td>15.922534</td>\n    </tr>\n    <tr>\n      <th>3797</th>\n      <td>Zimbabwe</td>\n      <td>ZWE</td>\n      <td>2017</td>\n      <td>9.773547</td>\n      <td>12.217892</td>\n      <td>13.057365</td>\n    </tr>\n    <tr>\n      <th>3798</th>\n      <td>Zimbabwe</td>\n      <td>ZWE</td>\n      <td>2018</td>\n      <td>9.672438</td>\n      <td>11.963584</td>\n      <td>12.868393</td>\n    </tr>\n    <tr>\n      <th>3799</th>\n      <td>Zimbabwe</td>\n      <td>ZWE</td>\n      <td>2019</td>\n      <td>9.739059</td>\n      <td>11.731317</td>\n      <td>12.919739</td>\n    </tr>\n  </tbody>\n</table>\n<p>3800 rows × 6 columns</p>\n</div>"
     },
     "execution_count": 4,
     "metadata": {},
     "output_type": "execute_result"
    }
   ],
   "source": [
    "df = pd.read_csv('sample/suicide-rates-among-young-people.csv')\n",
    "#df.tail()\n",
    "#df.head()\n",
    "#df.info()\n",
    "df"
   ]
  },
  {
   "cell_type": "code",
   "execution_count": 5,
   "id": "517dedcc-b206-4bca-8d15-cf1a0c625cb6",
   "metadata": {
    "ExecuteTime": {
     "end_time": "2024-05-14T15:05:47.740917500Z",
     "start_time": "2024-05-14T15:05:47.718366400Z"
    }
   },
   "outputs": [],
   "source": [
    "df_filtered = df[(df['Year'] >= 2000) & (df['Year'] <= 2019)]\n",
    "df_sorted = df_filtered.sort_values(by=['Entity', 'Year'])"
   ]
  },
  {
   "cell_type": "code",
   "execution_count": 6,
   "id": "b298459d-6586-43c7-a1a0-c0a4f69a8df6",
   "metadata": {
    "ExecuteTime": {
     "end_time": "2024-05-14T15:05:48.102403200Z",
     "start_time": "2024-05-14T15:05:48.077845300Z"
    }
   },
   "outputs": [],
   "source": [
    "df_grouped = df_filtered.groupby(['Entity', 'Year']).agg({\n",
    "    'Death rate per 100,000 people - Cause: Self-harm - Sex: Both sexes - Age group: YEARS15-19': 'mean',\n",
    "    'Death rate per 100,000 people - Cause: Self-harm - Sex: Both sexes - Age group: YEARS20-24': 'mean',\n",
    "    'Death rate per 100,000 people - Cause: Self-harm - Sex: Both sexes - Age group: YEARS25-34': 'mean'\n",
    "}).reset_index()"
   ]
  },
  {
   "cell_type": "code",
   "execution_count": 7,
   "id": "26a99e41-ccd4-4ad3-ab90-9ac2d14aeb08",
   "metadata": {
    "ExecuteTime": {
     "end_time": "2024-05-14T15:05:48.829779600Z",
     "start_time": "2024-05-14T15:05:48.468308900Z"
    }
   },
   "outputs": [],
   "source": [
    "# Tes count by country\n",
    "changes = {}\n",
    "for column in df_grouped.columns[2:]:\n",
    "    changes[column] = df_grouped[column].diff().tolist()\n",
    "    for entity in df_grouped['Entity'].unique():\n",
    "        entity_min_year = df_grouped[df_grouped['Entity'] == entity]['Year'].min()\n",
    "        if entity_min_year == 2000:\n",
    "            entity_indices = df_grouped.index[df_grouped['Entity'] == entity]\n",
    "            changes[column][entity_indices[0]] = 0"
   ]
  },
  {
   "cell_type": "code",
   "execution_count": 8,
   "id": "ec0fc4aa-cb03-4777-9d66-a294e54567ca",
   "metadata": {
    "ExecuteTime": {
     "end_time": "2024-05-14T15:05:48.852739600Z",
     "start_time": "2024-05-14T15:05:48.833786800Z"
    }
   },
   "outputs": [
    {
     "name": "stdout",
     "output_type": "stream",
     "text": [
      "    Death rate per 100,000 people - Cause: Self-harm - Sex: Both sexes - Age group: YEARS15-19  \\\n",
      "0                                            0.000000                                            \n",
      "1                                            0.354040                                            \n",
      "2                                           -0.391223                                            \n",
      "3                                           -0.146295                                            \n",
      "4                                            0.039941                                            \n",
      "5                                           -0.225948                                            \n",
      "6                                           -0.334279                                            \n",
      "7                                           -0.303834                                            \n",
      "8                                           -0.372208                                            \n",
      "9                                           -0.394076                                            \n",
      "10                                          -0.186172                                            \n",
      "11                                          -0.188755                                            \n",
      "12                                          -0.103808                                            \n",
      "13                                          -0.028529                                            \n",
      "14                                          -0.084614                                            \n",
      "15                                           0.094703                                            \n",
      "16                                          -0.049260                                            \n",
      "17                                           0.058845                                            \n",
      "18                                          -0.174668                                            \n",
      "19                                          -0.011779                                            \n",
      "20                                           0.000000                                            \n",
      "21                                          -0.191868                                            \n",
      "22                                          -0.057955                                            \n",
      "23                                          -0.151558                                            \n",
      "24                                          -0.127479                                            \n",
      "25                                          -0.079315                                            \n",
      "26                                          -0.054739                                            \n",
      "27                                          -0.058371                                            \n",
      "28                                          -0.066051                                            \n",
      "29                                           0.005174                                            \n",
      "30                                          -0.032726                                            \n",
      "31                                          -0.051126                                            \n",
      "32                                           0.002278                                            \n",
      "33                                          -0.005378                                            \n",
      "34                                          -0.030013                                            \n",
      "35                                          -0.068707                                            \n",
      "36                                          -0.081455                                            \n",
      "37                                          -0.109452                                            \n",
      "38                                          -0.156936                                            \n",
      "39                                          -0.113960                                            \n",
      "40                                           0.000000                                            \n",
      "41                                          -0.463612                                            \n",
      "42                                          -0.840200                                            \n",
      "43                                           0.799324                                            \n",
      "44                                          -0.209195                                            \n",
      "45                                           3.822549                                            \n",
      "46                                           0.753944                                            \n",
      "47                                           0.121729                                            \n",
      "48                                           0.180956                                            \n",
      "49                                           0.531124                                            \n",
      "50                                           0.000698                                            \n",
      "51                                           1.077513                                            \n",
      "52                                          -6.507152                                            \n",
      "53                                           1.966835                                            \n",
      "54                                          -2.675465                                            \n",
      "55                                           0.472330                                            \n",
      "56                                           0.804167                                            \n",
      "57                                           0.385561                                            \n",
      "58                                          -0.133075                                            \n",
      "59                                          -0.313895                                            \n",
      "\n",
      "    Death rate per 100,000 people - Cause: Self-harm - Sex: Both sexes - Age group: YEARS20-24  \\\n",
      "0                                            0.000000                                            \n",
      "1                                            0.905801                                            \n",
      "2                                            0.042701                                            \n",
      "3                                           -0.168749                                            \n",
      "4                                            0.553131                                            \n",
      "5                                           -0.025633                                            \n",
      "6                                           -0.386497                                            \n",
      "7                                           -0.170305                                            \n",
      "8                                           -0.658405                                            \n",
      "9                                           -1.037497                                            \n",
      "10                                          -0.518673                                            \n",
      "11                                          -0.543202                                            \n",
      "12                                          -0.463967                                            \n",
      "13                                          -0.078220                                            \n",
      "14                                          -0.263609                                            \n",
      "15                                           0.175626                                            \n",
      "16                                           0.013823                                            \n",
      "17                                           0.365927                                            \n",
      "18                                          -0.295383                                            \n",
      "19                                           0.052929                                            \n",
      "20                                           0.000000                                            \n",
      "21                                          -0.230850                                            \n",
      "22                                          -0.178332                                            \n",
      "23                                          -0.123344                                            \n",
      "24                                          -0.098676                                            \n",
      "25                                          -0.215768                                            \n",
      "26                                          -0.169031                                            \n",
      "27                                          -0.188609                                            \n",
      "28                                          -0.199899                                            \n",
      "29                                          -0.163359                                            \n",
      "30                                          -0.212640                                            \n",
      "31                                          -0.185024                                            \n",
      "32                                          -0.148983                                            \n",
      "33                                          -0.017314                                            \n",
      "34                                          -0.060724                                            \n",
      "35                                          -0.147121                                            \n",
      "36                                          -0.117876                                            \n",
      "37                                          -0.053269                                            \n",
      "38                                          -0.131519                                            \n",
      "39                                          -0.126742                                            \n",
      "40                                           0.000000                                            \n",
      "41                                          -1.973543                                            \n",
      "42                                           0.015015                                            \n",
      "43                                          -0.029888                                            \n",
      "44                                           0.019849                                            \n",
      "45                                           4.844347                                            \n",
      "46                                           1.824338                                            \n",
      "47                                           0.442799                                            \n",
      "48                                          -0.138501                                            \n",
      "49                                          -0.499348                                            \n",
      "50                                          -0.688200                                            \n",
      "51                                           0.793126                                            \n",
      "52                                          -7.800497                                            \n",
      "53                                           0.397007                                            \n",
      "54                                          -0.531053                                            \n",
      "55                                          -0.616386                                            \n",
      "56                                          -0.556789                                            \n",
      "57                                          -0.091304                                            \n",
      "58                                          -0.306067                                            \n",
      "59                                          -0.533603                                            \n",
      "\n",
      "    Death rate per 100,000 people - Cause: Self-harm - Sex: Both sexes - Age group: YEARS25-34  \\\n",
      "0                                            0.000000                                            \n",
      "1                                            0.672653                                            \n",
      "2                                           -0.191974                                            \n",
      "3                                           -0.399370                                            \n",
      "4                                            0.376159                                            \n",
      "5                                           -0.030352                                            \n",
      "6                                           -0.176009                                            \n",
      "7                                            0.214221                                            \n",
      "8                                           -0.143029                                            \n",
      "9                                           -0.679373                                            \n",
      "10                                          -0.293683                                            \n",
      "11                                          -0.527385                                            \n",
      "12                                          -0.519317                                            \n",
      "13                                          -0.096425                                            \n",
      "14                                          -0.325592                                            \n",
      "15                                           0.034339                                            \n",
      "16                                           0.019953                                            \n",
      "17                                           0.179253                                            \n",
      "18                                          -0.343090                                            \n",
      "19                                          -0.104114                                            \n",
      "20                                           0.000000                                            \n",
      "21                                          -0.231488                                            \n",
      "22                                          -0.043187                                            \n",
      "23                                          -0.090775                                            \n",
      "24                                          -0.242347                                            \n",
      "25                                          -0.284352                                            \n",
      "26                                          -0.179013                                            \n",
      "27                                           0.042432                                            \n",
      "28                                           0.297038                                            \n",
      "29                                          -0.002558                                            \n",
      "30                                          -0.453538                                            \n",
      "31                                          -0.546294                                            \n",
      "32                                          -0.078256                                            \n",
      "33                                          -0.174055                                            \n",
      "34                                          -0.185869                                            \n",
      "35                                          -0.252270                                            \n",
      "36                                          -0.232764                                            \n",
      "37                                          -0.072435                                            \n",
      "38                                           0.040633                                            \n",
      "39                                           0.029402                                            \n",
      "40                                           0.000000                                            \n",
      "41                                           0.024224                                            \n",
      "42                                           0.059219                                            \n",
      "43                                          -0.783265                                            \n",
      "44                                          -0.269937                                            \n",
      "45                                           7.904913                                            \n",
      "46                                          -0.621809                                            \n",
      "47                                           0.495264                                            \n",
      "48                                           0.262436                                            \n",
      "49                                          -0.462760                                            \n",
      "50                                          -1.050757                                            \n",
      "51                                           0.187072                                            \n",
      "52                                          -6.562010                                            \n",
      "53                                          -0.030716                                            \n",
      "54                                          -0.301046                                            \n",
      "55                                          -0.756332                                            \n",
      "56                                          -0.481734                                            \n",
      "57                                          -0.326742                                            \n",
      "58                                          -0.532722                                            \n",
      "59                                          -0.544649                                            \n",
      "\n",
      "         Entity  \n",
      "0   Afghanistan  \n",
      "1   Afghanistan  \n",
      "2   Afghanistan  \n",
      "3   Afghanistan  \n",
      "4   Afghanistan  \n",
      "5   Afghanistan  \n",
      "6   Afghanistan  \n",
      "7   Afghanistan  \n",
      "8   Afghanistan  \n",
      "9   Afghanistan  \n",
      "10  Afghanistan  \n",
      "11  Afghanistan  \n",
      "12  Afghanistan  \n",
      "13  Afghanistan  \n",
      "14  Afghanistan  \n",
      "15  Afghanistan  \n",
      "16  Afghanistan  \n",
      "17  Afghanistan  \n",
      "18  Afghanistan  \n",
      "19  Afghanistan  \n",
      "20       Africa  \n",
      "21       Africa  \n",
      "22       Africa  \n",
      "23       Africa  \n",
      "24       Africa  \n",
      "25       Africa  \n",
      "26       Africa  \n",
      "27       Africa  \n",
      "28       Africa  \n",
      "29       Africa  \n",
      "30       Africa  \n",
      "31       Africa  \n",
      "32       Africa  \n",
      "33       Africa  \n",
      "34       Africa  \n",
      "35       Africa  \n",
      "36       Africa  \n",
      "37       Africa  \n",
      "38       Africa  \n",
      "39       Africa  \n",
      "40      Albania  \n",
      "41      Albania  \n",
      "42      Albania  \n",
      "43      Albania  \n",
      "44      Albania  \n",
      "45      Albania  \n",
      "46      Albania  \n",
      "47      Albania  \n",
      "48      Albania  \n",
      "49      Albania  \n",
      "50      Albania  \n",
      "51      Albania  \n",
      "52      Albania  \n",
      "53      Albania  \n",
      "54      Albania  \n",
      "55      Albania  \n",
      "56      Albania  \n",
      "57      Albania  \n",
      "58      Albania  \n",
      "59      Albania  \n"
     ]
    }
   ],
   "source": [
    "# Tes count by country\n",
    "df_changes = pd.DataFrame(changes)\n",
    "df_changes['Entity'] = df_grouped['Entity']\n",
    "print(df_changes[0:60])"
   ]
  },
  {
   "cell_type": "code",
   "execution_count": 9,
   "id": "6735f61e-8508-41ce-8d0d-73489d68861b",
   "metadata": {
    "ExecuteTime": {
     "end_time": "2024-05-14T15:05:48.873301700Z",
     "start_time": "2024-05-14T15:05:48.843223700Z"
    }
   },
   "outputs": [
    {
     "data": {
      "text/plain": "{'2000': 6717.58764614,\n '2001': 6526.887709740002,\n '2002': 6422.155027000001,\n '2003': 6268.528138970001,\n '2004': 6215.736750729999,\n '2005': 6218.3023512400005,\n '2006': 6066.676484099999,\n '2007': 6022.519427700001,\n '2008': 5990.335498999999,\n '2009': 5989.247926019999,\n '2010': 5859.586338039998,\n '2011': 5774.415640999998,\n '2012': 5743.841943489999,\n '2013': 5596.780263589999,\n '2014': 5532.081084729998,\n '2015': 5395.127963359999,\n '2016': 5207.601940600001,\n '2017': 5199.35698588,\n '2018': 5034.593952260002,\n '2019': 4957.220710599999}"
     },
     "execution_count": 9,
     "metadata": {},
     "output_type": "execute_result"
    }
   ],
   "source": [
    "# count all\n",
    "total_changes = {str(year): 0 for year in range(2000, 2020)}\n",
    "\n",
    "# Menambahkan nilai perubahan untuk setiap tahun dari seluruh negara\n",
    "for column in df_grouped.columns[2:]:\n",
    "    for i, year in enumerate(range(2000, 2020)):\n",
    "        #print(df_grouped[column][df_grouped['Year']])\n",
    "        total_changes[str(year)] += sum(df_grouped[column][df_grouped['Year'] == year])\n",
    "\n",
    "total_changes"
   ]
  },
  {
   "cell_type": "code",
   "execution_count": 10,
   "id": "d32210b5-71db-46e1-85f6-36af0ddf72fd",
   "metadata": {
    "ExecuteTime": {
     "end_time": "2024-05-14T15:05:48.998075300Z",
     "start_time": "2024-05-14T15:05:48.983725100Z"
    }
   },
   "outputs": [
    {
     "name": "stdout",
     "output_type": "stream",
     "text": [
      "Rata-rata kenaikan angka kematian untuk seluruh dunia dari tahun 2000 hingga 2019:\n",
      "Tahun 2000: 35.356\n",
      "Tahun 2001: 34.352\n",
      "Tahun 2002: 33.801\n",
      "Tahun 2003: 32.992\n",
      "Tahun 2004: 32.714\n",
      "Tahun 2005: 32.728\n",
      "Tahun 2006: 31.930\n",
      "Tahun 2007: 31.697\n",
      "Tahun 2008: 31.528\n",
      "Tahun 2009: 31.522\n",
      "Tahun 2010: 30.840\n",
      "Tahun 2011: 30.392\n",
      "Tahun 2012: 30.231\n",
      "Tahun 2013: 29.457\n",
      "Tahun 2014: 29.116\n",
      "Tahun 2015: 28.395\n",
      "Tahun 2016: 27.408\n",
      "Tahun 2017: 27.365\n",
      "Tahun 2018: 26.498\n",
      "Tahun 2019: 26.091\n"
     ]
    }
   ],
   "source": [
    "# Menghitung rata-rata perubahan untuk setiap tahun\n",
    "mean_changes = {\n",
    "    year: total_change / len(df_grouped['Entity'].unique()) for year, \n",
    "    total_change in total_changes.items()\n",
    "}\n",
    "\n",
    "# Menampilkan hasil\n",
    "print(\"Rata-rata kenaikan angka kematian untuk seluruh dunia dari tahun 2000 hingga 2019:\")\n",
    "for year, mean_change in mean_changes.items():\n",
    "    formatted_mean_change = \"{:.3f}\".format(mean_change)\n",
    "    print(f\"Tahun {year}: {formatted_mean_change}\")"
   ]
  },
  {
   "cell_type": "code",
   "execution_count": 11,
   "id": "964318ab-1a56-4c43-b4e1-d6024e7258dd",
   "metadata": {
    "ExecuteTime": {
     "end_time": "2024-05-14T15:05:49.179635600Z",
     "start_time": "2024-05-14T15:05:49.154063400Z"
    }
   },
   "outputs": [
    {
     "data": {
      "text/plain": "           Entity  Year  \\\n0     Afghanistan  2000   \n1     Afghanistan  2001   \n2     Afghanistan  2002   \n3     Afghanistan  2003   \n4     Afghanistan  2004   \n...           ...   ...   \n3795     Zimbabwe  2015   \n3796     Zimbabwe  2016   \n3797     Zimbabwe  2017   \n3798     Zimbabwe  2018   \n3799     Zimbabwe  2019   \n\n      Death rate per 100,000 people - Cause: Self-harm - Sex: Both sexes - Age group: YEARS15-19  \\\n0                                              5.773377                                            \n1                                              6.127417                                            \n2                                              5.736194                                            \n3                                              5.589899                                            \n4                                              5.629840                                            \n...                                                 ...                                            \n3795                                          10.232885                                            \n3796                                           9.983424                                            \n3797                                           9.773547                                            \n3798                                           9.672438                                            \n3799                                           9.739059                                            \n\n      Death rate per 100,000 people - Cause: Self-harm - Sex: Both sexes - Age group: YEARS20-24  \\\n0                                              8.977578                                            \n1                                              9.883379                                            \n2                                              9.926080                                            \n3                                              9.757331                                            \n4                                             10.310462                                            \n...                                                 ...                                            \n3795                                          13.056926                                            \n3796                                          12.505952                                            \n3797                                          12.217892                                            \n3798                                          11.963584                                            \n3799                                          11.731317                                            \n\n      Death rate per 100,000 people - Cause: Self-harm - Sex: Both sexes - Age group: YEARS25-34  \n0                                             10.135592                                           \n1                                             10.808245                                           \n2                                             10.616271                                           \n3                                             10.216901                                           \n4                                             10.593060                                           \n...                                                 ...                                           \n3795                                          17.767336                                           \n3796                                          15.922534                                           \n3797                                          13.057365                                           \n3798                                          12.868393                                           \n3799                                          12.919739                                           \n\n[3800 rows x 5 columns]",
      "text/html": "<div>\n<style scoped>\n    .dataframe tbody tr th:only-of-type {\n        vertical-align: middle;\n    }\n\n    .dataframe tbody tr th {\n        vertical-align: top;\n    }\n\n    .dataframe thead th {\n        text-align: right;\n    }\n</style>\n<table border=\"1\" class=\"dataframe\">\n  <thead>\n    <tr style=\"text-align: right;\">\n      <th></th>\n      <th>Entity</th>\n      <th>Year</th>\n      <th>Death rate per 100,000 people - Cause: Self-harm - Sex: Both sexes - Age group: YEARS15-19</th>\n      <th>Death rate per 100,000 people - Cause: Self-harm - Sex: Both sexes - Age group: YEARS20-24</th>\n      <th>Death rate per 100,000 people - Cause: Self-harm - Sex: Both sexes - Age group: YEARS25-34</th>\n    </tr>\n  </thead>\n  <tbody>\n    <tr>\n      <th>0</th>\n      <td>Afghanistan</td>\n      <td>2000</td>\n      <td>5.773377</td>\n      <td>8.977578</td>\n      <td>10.135592</td>\n    </tr>\n    <tr>\n      <th>1</th>\n      <td>Afghanistan</td>\n      <td>2001</td>\n      <td>6.127417</td>\n      <td>9.883379</td>\n      <td>10.808245</td>\n    </tr>\n    <tr>\n      <th>2</th>\n      <td>Afghanistan</td>\n      <td>2002</td>\n      <td>5.736194</td>\n      <td>9.926080</td>\n      <td>10.616271</td>\n    </tr>\n    <tr>\n      <th>3</th>\n      <td>Afghanistan</td>\n      <td>2003</td>\n      <td>5.589899</td>\n      <td>9.757331</td>\n      <td>10.216901</td>\n    </tr>\n    <tr>\n      <th>4</th>\n      <td>Afghanistan</td>\n      <td>2004</td>\n      <td>5.629840</td>\n      <td>10.310462</td>\n      <td>10.593060</td>\n    </tr>\n    <tr>\n      <th>...</th>\n      <td>...</td>\n      <td>...</td>\n      <td>...</td>\n      <td>...</td>\n      <td>...</td>\n    </tr>\n    <tr>\n      <th>3795</th>\n      <td>Zimbabwe</td>\n      <td>2015</td>\n      <td>10.232885</td>\n      <td>13.056926</td>\n      <td>17.767336</td>\n    </tr>\n    <tr>\n      <th>3796</th>\n      <td>Zimbabwe</td>\n      <td>2016</td>\n      <td>9.983424</td>\n      <td>12.505952</td>\n      <td>15.922534</td>\n    </tr>\n    <tr>\n      <th>3797</th>\n      <td>Zimbabwe</td>\n      <td>2017</td>\n      <td>9.773547</td>\n      <td>12.217892</td>\n      <td>13.057365</td>\n    </tr>\n    <tr>\n      <th>3798</th>\n      <td>Zimbabwe</td>\n      <td>2018</td>\n      <td>9.672438</td>\n      <td>11.963584</td>\n      <td>12.868393</td>\n    </tr>\n    <tr>\n      <th>3799</th>\n      <td>Zimbabwe</td>\n      <td>2019</td>\n      <td>9.739059</td>\n      <td>11.731317</td>\n      <td>12.919739</td>\n    </tr>\n  </tbody>\n</table>\n<p>3800 rows × 5 columns</p>\n</div>"
     },
     "execution_count": 11,
     "metadata": {},
     "output_type": "execute_result"
    }
   ],
   "source": [
    "df_grouped"
   ]
  },
  {
   "cell_type": "code",
   "execution_count": 12,
   "id": "3af17d4a-3883-4505-86bd-dbd880e71d11",
   "metadata": {
    "ExecuteTime": {
     "end_time": "2024-05-14T15:05:49.376240500Z",
     "start_time": "2024-05-14T15:05:49.334677600Z"
    }
   },
   "outputs": [
    {
     "data": {
      "text/plain": "dict_keys(['2000', '2001', '2002', '2003', '2004', '2005', '2006', '2007', '2008', '2009', '2010', '2011', '2012', '2013', '2014', '2015', '2016', '2017', '2018', '2019'])"
     },
     "execution_count": 12,
     "metadata": {},
     "output_type": "execute_result"
    }
   ],
   "source": [
    "mean_changes.keys()"
   ]
  },
  {
   "cell_type": "code",
   "execution_count": 13,
   "id": "135b9987-f4e2-4324-bb01-ab9008037afd",
   "metadata": {
    "ExecuteTime": {
     "end_time": "2024-05-14T15:05:49.512367400Z",
     "start_time": "2024-05-14T15:05:49.501858Z"
    }
   },
   "outputs": [
    {
     "data": {
      "text/plain": "dict_values([35.355724453368424, 34.352040577578954, 33.80081593157895, 32.992253363, 32.71440395121052, 32.72790711178948, 31.929876232105254, 31.69747067210527, 31.528081573684204, 31.522357505368415, 30.839928094947357, 30.39166126842104, 30.230747070999993, 29.456738229421045, 29.116216235421042, 28.395410333473677, 27.408431266315798, 27.365036767789473, 26.49786290663159, 26.09063531894736])"
     },
     "execution_count": 13,
     "metadata": {},
     "output_type": "execute_result"
    }
   ],
   "source": [
    "mean_changes.values()"
   ]
  },
  {
   "cell_type": "code",
   "execution_count": null,
   "id": "59bd4401-93f3-4d67-a75d-a269be47b8a0",
   "metadata": {},
   "outputs": [],
   "source": []
  }
 ],
 "metadata": {
  "kernelspec": {
   "display_name": "Python 3 (ipykernel)",
   "language": "python",
   "name": "python3"
  },
  "language_info": {
   "codemirror_mode": {
    "name": "ipython",
    "version": 3
   },
   "file_extension": ".py",
   "mimetype": "text/x-python",
   "name": "python",
   "nbconvert_exporter": "python",
   "pygments_lexer": "ipython3",
   "version": "3.9.16"
  }
 },
 "nbformat": 4,
 "nbformat_minor": 5
}
