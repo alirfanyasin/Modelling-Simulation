{
 "cells": [
  {
   "cell_type": "code",
   "execution_count": 74,
   "outputs": [],
   "source": [
    "import pandas as pd\n",
    "from modsim import *\n",
    "import matplotlib.pyplot as plt\n",
    "import numpy as np"
   ],
   "metadata": {
    "collapsed": false,
    "ExecuteTime": {
     "end_time": "2024-05-22T13:00:07.990662700Z",
     "start_time": "2024-05-22T13:00:07.932784600Z"
    }
   },
   "id": "41341a922e37988"
  },
  {
   "cell_type": "code",
   "execution_count": 75,
   "outputs": [],
   "source": [
    "# install Pint if necessary\n",
    "try:\n",
    "  from pint import UnitRegistry\n",
    "except ImportError:\n",
    "  !pip install pint"
   ],
   "metadata": {
    "collapsed": false,
    "ExecuteTime": {
     "end_time": "2024-05-22T13:00:08.049552900Z",
     "start_time": "2024-05-22T13:00:07.936301800Z"
    }
   },
   "id": "d672ae31-2320-429f-b68a-bebe6a5606eb"
  },
  {
   "cell_type": "code",
   "execution_count": 76,
   "outputs": [],
   "source": [
    "# download modsim.py if necessary\n",
    "\n",
    "from os.path import basename, exists\n",
    "\n",
    "\n",
    "def download(url):\n",
    "  filename = basename(url)\n",
    "  if not exists(filename):\n",
    "    from urllib.request import urlretrieve\n",
    "    local, _ = urlretrieve(url, filename)\n",
    "    print('Downloaded ' + local)\n",
    "\n",
    "\n",
    "download('https://github.com/AllenDowney/ModSimPy/raw/master/' +\n",
    "         'modsim.py')"
   ],
   "metadata": {
    "collapsed": false,
    "ExecuteTime": {
     "end_time": "2024-05-22T13:00:08.050552600Z",
     "start_time": "2024-05-22T13:00:07.949404300Z"
    }
   },
   "id": "c7c321af-bef6-4817-938e-b456e3b762e3"
  },
  {
   "cell_type": "code",
   "execution_count": 77,
   "id": "59bd4401-93f3-4d67-a75d-a269be47b8a0",
   "metadata": {
    "ExecuteTime": {
     "end_time": "2024-05-22T13:00:09.168843500Z",
     "start_time": "2024-05-22T13:00:07.968017700Z"
    }
   },
   "outputs": [
    {
     "name": "stderr",
     "output_type": "stream",
     "text": [
      "C:\\Users\\katana\\AppData\\Local\\Temp\\ipykernel_17856\\2091496989.py:12: DtypeWarning: Columns (4,5) have mixed types. Specify dtype option on import or set low_memory=False.\n",
      "  df = pd.read_csv(file_path)\n"
     ]
    }
   ],
   "source": [
    "# Menghapus kolom yang tidak diperlukan\n",
    "data_have_index = [\n",
    "  \"sample/anxiety-disorders-males-vs-females.csv\",\n",
    "  \"sample/bipolar-disorder-in-males-vs-females.csv\",\n",
    "  \"sample/depression-males-vs-females.csv\",\n",
    "  \"sample/eating-disorders-in-males-vs-females.csv\",\n",
    "  \"sample/Mental health Depression disorder Data.csv\",\n",
    "  \"sample/schizophrenia-in-males-vs-females.csv\"\n",
    "]\n",
    "\n",
    "for file_path in data_have_index:\n",
    "  df = pd.read_csv(file_path)\n",
    "  if 'index' in df.columns:\n",
    "    df = df.drop('index', axis=1)\n",
    "  df.to_csv(file_path, index=False)"
   ]
  },
  {
   "cell_type": "code",
   "execution_count": 78,
   "outputs": [
    {
     "name": "stderr",
     "output_type": "stream",
     "text": [
      "C:\\Users\\katana\\AppData\\Local\\Temp\\ipykernel_17856\\1967768737.py:2: FutureWarning: The default value of numeric_only in DataFrameGroupBy.mean is deprecated. In a future version, numeric_only will default to False. Either specify numeric_only or select only columns which should be valid for the function.\n",
      "  df_grouped_bundir = df_grouped_bundir.groupby('Year').mean().reset_index()\n"
     ]
    }
   ],
   "source": [
    "df_grouped_bundir = pd.read_csv(\"sample/suicide-rates-among-young-people.csv\")\n",
    "df_grouped_bundir = df_grouped_bundir.groupby('Year').mean().reset_index()"
   ],
   "metadata": {
    "collapsed": false,
    "ExecuteTime": {
     "end_time": "2024-05-22T13:00:09.244357200Z",
     "start_time": "2024-05-22T13:00:09.172829100Z"
    }
   },
   "id": "1b30c0037289c0a"
  },
  {
   "cell_type": "code",
   "execution_count": 79,
   "outputs": [
    {
     "data": {
      "text/plain": "Index(['Year',\n       'Death rate per 100,000 people - Cause: Self-harm - Sex: Both sexes - Age group: YEARS15-19',\n       'Death rate per 100,000 people - Cause: Self-harm - Sex: Both sexes - Age group: YEARS20-24',\n       'Death rate per 100,000 people - Cause: Self-harm - Sex: Both sexes - Age group: YEARS25-34'],\n      dtype='object')"
     },
     "execution_count": 79,
     "metadata": {},
     "output_type": "execute_result"
    }
   ],
   "source": [
    "df_grouped_bundir.columns"
   ],
   "metadata": {
    "collapsed": false,
    "ExecuteTime": {
     "end_time": "2024-05-22T13:00:09.256575800Z",
     "start_time": "2024-05-22T13:00:09.201607200Z"
    }
   },
   "id": "d57ecf3ffd5f2e5d"
  },
  {
   "cell_type": "code",
   "execution_count": 80,
   "outputs": [
    {
     "name": "stdout",
     "output_type": "stream",
     "text": [
      "Minimal: Percentage_Bundir    0.008697\n",
      "dtype: float64\n",
      "Maximal: Percentage_Bundir    0.011785\n",
      "dtype: float64\n"
     ]
    }
   ],
   "source": [
    "df_grouped_bundir['Change_15_19'] = df_grouped_bundir[\n",
    "  'Death rate per 100,000 people - Cause: Self-harm - Sex: Both sexes - Age group: YEARS15-19']\n",
    "df_grouped_bundir['Change_20_24'] = df_grouped_bundir[\n",
    "  'Death rate per 100,000 people - Cause: Self-harm - Sex: Both sexes - Age group: YEARS20-24']\n",
    "df_grouped_bundir['Change_25_34'] = df_grouped_bundir[\n",
    "  'Death rate per 100,000 people - Cause: Self-harm - Sex: Both sexes - Age group: YEARS25-34']\n",
    "\n",
    "df_grouped_bundir['Percentage_Bundir'] = ((df_grouped_bundir[\n",
    "                                             'Death rate per 100,000 people - Cause: Self-harm - Sex: Both sexes - Age group: YEARS15-19'] +\n",
    "                                           df_grouped_bundir[\n",
    "                                             'Death rate per 100,000 people - Cause: Self-harm - Sex: Both sexes - Age group: YEARS20-24'] +\n",
    "                                           df_grouped_bundir[\n",
    "                                             'Death rate per 100,000 people - Cause: Self-harm - Sex: Both sexes - Age group: YEARS25-34']) / 300000) * 100\n",
    "\n",
    "print(f\"Minimal: {df_grouped_bundir[['Percentage_Bundir']].min()}\")\n",
    "print(f\"Maximal: {df_grouped_bundir[['Percentage_Bundir']].max()}\")"
   ],
   "metadata": {
    "collapsed": false,
    "ExecuteTime": {
     "end_time": "2024-05-22T13:00:09.257577800Z",
     "start_time": "2024-05-22T13:00:09.232842500Z"
    }
   },
   "id": "6812dbfbeb333d46"
  },
  {
   "cell_type": "code",
   "execution_count": 81,
   "outputs": [
    {
     "data": {
      "text/plain": "Entity                                                                                0\nCode                                                                               2316\nYear                                                                                  0\nPrevalence - Anxiety disorders - Sex: Male - Age: Age-standardized (Percent)      49555\nPrevalence - Anxiety disorders - Sex: Female - Age: Age-standardized (Percent)    49555\nPopulation (historical estimates)                                                   739\nContinent                                                                         56110\ndtype: int64"
     },
     "execution_count": 81,
     "metadata": {},
     "output_type": "execute_result"
    }
   ],
   "source": [
    "# Anxiety\n",
    "df_anxiety = pd.read_csv(\"sample/anxiety-disorders-males-vs-females.csv\")\n",
    "df_anxiety.isnull().sum()"
   ],
   "metadata": {
    "collapsed": false,
    "ExecuteTime": {
     "end_time": "2024-05-22T13:00:09.315273100Z",
     "start_time": "2024-05-22T13:00:09.246454400Z"
    }
   },
   "id": "a11e2be3ce37dfc9"
  },
  {
   "cell_type": "code",
   "execution_count": 82,
   "outputs": [
    {
     "data": {
      "text/plain": "Entity                                                                            0\nCode                                                                              0\nYear                                                                              0\nPrevalence - Anxiety disorders - Sex: Male - Age: Age-standardized (Percent)      1\nPrevalence - Anxiety disorders - Sex: Female - Age: Age-standardized (Percent)    1\nPopulation (historical estimates)                                                 1\nContinent                                                                         0\ndtype: int64"
     },
     "execution_count": 82,
     "metadata": {},
     "output_type": "execute_result"
    }
   ],
   "source": [
    "df_anxiety = df_anxiety.fillna(method='ffill')\n",
    "df_anxiety.isnull().sum()"
   ],
   "metadata": {
    "collapsed": false,
    "ExecuteTime": {
     "end_time": "2024-05-22T13:00:09.357960300Z",
     "start_time": "2024-05-22T13:00:09.309840300Z"
    }
   },
   "id": "4d7daac2f612aaad"
  },
  {
   "cell_type": "code",
   "execution_count": 83,
   "outputs": [
    {
     "data": {
      "text/plain": "Year\n1990    8.597020\n1991    8.577117\n1992    8.580791\n1993    8.584431\n1994    8.587703\n1995    8.590236\n1996    8.597522\n1997    8.612425\n1998    8.630520\n1999    8.647335\n2000    8.681072\n2001    8.686826\n2002    8.691382\n2003    8.695295\n2004    8.699017\n2005    8.702923\n2006    8.713647\n2007    8.733901\n2008    8.757902\n2009    8.779832\n2010    8.793758\n2011    8.802289\n2012    8.811699\n2013    8.821406\n2014    8.830757\n2015    8.813362\n2016    8.843971\n2017    8.847163\ndtype: float64"
     },
     "execution_count": 83,
     "metadata": {},
     "output_type": "execute_result"
    }
   ],
   "source": [
    "df_anxiety = df_anxiety.rename(\n",
    "  columns={'Prevalence - Anxiety disorders - Sex: Female - Age: Age-standardized (Percent)': 'Anxiety_Female',\n",
    "           'Prevalence - Anxiety disorders - Sex: Male - Age: Age-standardized (Percent)': 'Anxiety_Male'})\n",
    "\n",
    "df_anxiety_filtered = df_anxiety[(df_anxiety['Year'] >= 1990) & (df_anxiety['Year'] <= 2017)]\n",
    "\n",
    "df_anxiety_mean = df_anxiety_filtered.groupby('Year').agg({\n",
    "  'Anxiety_Male': 'mean',\n",
    "  'Anxiety_Female': 'mean'\n",
    "})\n",
    "\n",
    "total_df_anxiety_mean = df_anxiety_mean['Anxiety_Female'] + df_anxiety_mean['Anxiety_Male']\n",
    "\n",
    "total_df_anxiety_mean"
   ],
   "metadata": {
    "collapsed": false,
    "ExecuteTime": {
     "end_time": "2024-05-22T13:00:09.384593900Z",
     "start_time": "2024-05-22T13:00:09.357960300Z"
    }
   },
   "id": "5982e0a94f904d4d"
  },
  {
   "cell_type": "code",
   "execution_count": 84,
   "outputs": [
    {
     "data": {
      "text/plain": "Entity                                                                               0\nCode                                                                              2316\nYear                                                                                 0\nPrevalence - Bipolar disorder - Sex: Male - Age: Age-standardized (Percent)      49555\nPrevalence - Bipolar disorder - Sex: Female - Age: Age-standardized (Percent)    49555\nPopulation (historical estimates)                                                  739\nContinent                                                                        56110\ndtype: int64"
     },
     "execution_count": 84,
     "metadata": {},
     "output_type": "execute_result"
    }
   ],
   "source": [
    "#Bipolar\n",
    "df_bipolar = pd.read_csv(\"sample/bipolar-disorder-in-males-vs-females.csv\")\n",
    "df_bipolar.isnull().sum()"
   ],
   "metadata": {
    "collapsed": false,
    "ExecuteTime": {
     "end_time": "2024-05-22T13:00:09.451727100Z",
     "start_time": "2024-05-22T13:00:09.372475900Z"
    }
   },
   "id": "fa82bf0b920b2c0c"
  },
  {
   "cell_type": "code",
   "execution_count": 85,
   "outputs": [
    {
     "data": {
      "text/plain": "Entity                                                                           0\nCode                                                                             0\nYear                                                                             0\nPrevalence - Bipolar disorder - Sex: Male - Age: Age-standardized (Percent)      1\nPrevalence - Bipolar disorder - Sex: Female - Age: Age-standardized (Percent)    1\nPopulation (historical estimates)                                                1\nContinent                                                                        0\ndtype: int64"
     },
     "execution_count": 85,
     "metadata": {},
     "output_type": "execute_result"
    }
   ],
   "source": [
    "df_bipolar = df_bipolar.fillna(method='ffill')\n",
    "df_bipolar.isnull().sum()"
   ],
   "metadata": {
    "collapsed": false,
    "ExecuteTime": {
     "end_time": "2024-05-22T13:00:09.496607200Z",
     "start_time": "2024-05-22T13:00:09.451727100Z"
    }
   },
   "id": "1102cb09fe4e1abb"
  },
  {
   "cell_type": "code",
   "execution_count": 86,
   "outputs": [
    {
     "data": {
      "text/plain": "Year\n1990    1.352318\n1991    1.349416\n1992    1.349923\n1993    1.350428\n1994    1.350914\n1995    1.351366\n1996    1.351799\n1997    1.352259\n1998    1.352736\n1999    1.353219\n2000    1.357046\n2001    1.357960\n2002    1.359527\n2003    1.361330\n2004    1.362937\n2005    1.363902\n2006    1.364416\n2007    1.364993\n2008    1.365593\n2009    1.366167\n2010    1.366647\n2011    1.367089\n2012    1.367591\n2013    1.368116\n2014    1.368614\n2015    1.353710\n2016    1.369390\n2017    1.369737\ndtype: float64"
     },
     "execution_count": 86,
     "metadata": {},
     "output_type": "execute_result"
    }
   ],
   "source": [
    "df_bipolar = df_bipolar.rename(\n",
    "  columns={'Prevalence - Bipolar disorder - Sex: Male - Age: Age-standardized (Percent)': 'Bipolar_Male',\n",
    "           'Prevalence - Bipolar disorder - Sex: Female - Age: Age-standardized (Percent)': 'Bipolar_Female'})\n",
    "\n",
    "df_bipolar_filtered = df_bipolar[(df_bipolar['Year'] >= 1990) & (df_bipolar['Year'] <= 2017)]\n",
    "\n",
    "df_bipolar_mean = df_bipolar_filtered.groupby('Year').agg({\n",
    "  'Bipolar_Male': 'mean',\n",
    "  'Bipolar_Female': 'mean'\n",
    "})\n",
    "\n",
    "total_df_bipolar_mean = df_bipolar_mean['Bipolar_Male'] + df_bipolar_mean['Bipolar_Female']\n",
    "\n",
    "total_df_bipolar_mean"
   ],
   "metadata": {
    "collapsed": false,
    "ExecuteTime": {
     "end_time": "2024-05-22T13:00:09.531479Z",
     "start_time": "2024-05-22T13:00:09.500615500Z"
    }
   },
   "id": "368cf922a7a3e087"
  },
  {
   "cell_type": "code",
   "execution_count": 87,
   "outputs": [
    {
     "data": {
      "text/plain": "Entity                                                                                   0\nCode                                                                                  2316\nYear                                                                                     0\nPrevalence - Depressive disorders - Sex: Male - Age: Age-standardized (Percent)      49555\nPrevalence - Depressive disorders - Sex: Female - Age: Age-standardized (Percent)    49555\nPopulation (historical estimates)                                                      739\nContinent                                                                            56110\ndtype: int64"
     },
     "execution_count": 87,
     "metadata": {},
     "output_type": "execute_result"
    }
   ],
   "source": [
    "#Depression\n",
    "df_depression = pd.read_csv(\"sample/depression-males-vs-females.csv\")\n",
    "df_depression.isnull().sum()"
   ],
   "metadata": {
    "collapsed": false,
    "ExecuteTime": {
     "end_time": "2024-05-22T13:00:09.605405700Z",
     "start_time": "2024-05-22T13:00:09.529477600Z"
    }
   },
   "id": "81d15efaf263ec1c"
  },
  {
   "cell_type": "code",
   "execution_count": 88,
   "outputs": [
    {
     "data": {
      "text/plain": "Entity                                                                               0\nCode                                                                                 0\nYear                                                                                 0\nPrevalence - Depressive disorders - Sex: Male - Age: Age-standardized (Percent)      1\nPrevalence - Depressive disorders - Sex: Female - Age: Age-standardized (Percent)    1\nPopulation (historical estimates)                                                    1\nContinent                                                                            0\ndtype: int64"
     },
     "execution_count": 88,
     "metadata": {},
     "output_type": "execute_result"
    }
   ],
   "source": [
    "df_depression = df_depression.fillna(method='ffill')\n",
    "df_depression.isnull().sum()"
   ],
   "metadata": {
    "collapsed": false,
    "ExecuteTime": {
     "end_time": "2024-05-22T13:00:09.651565300Z",
     "start_time": "2024-05-22T13:00:09.606678900Z"
    }
   },
   "id": "fb259b578d39b7cc"
  },
  {
   "cell_type": "code",
   "execution_count": 89,
   "outputs": [
    {
     "data": {
      "text/plain": "Year\n1990    7.915004\n1991    7.908606\n1992    7.908812\n1993    7.909289\n1994    7.910118\n1995    7.911336\n1996    7.915877\n1997    7.924723\n1998    7.934348\n1999    7.941495\n2000    7.948691\n2001    7.944271\n2002    7.936789\n2003    7.927226\n2004    7.916698\n2005    7.906221\n2006    7.889664\n2007    7.863942\n2008    7.835988\n2009    7.812121\n2010    7.798328\n2011    7.793087\n2012    7.789183\n2013    7.786809\n2014    7.785408\n2015    7.738691\n2016    7.784694\n2017    7.785131\ndtype: float64"
     },
     "execution_count": 89,
     "metadata": {},
     "output_type": "execute_result"
    }
   ],
   "source": [
    "df_depression = df_depression.rename(\n",
    "  columns={'Prevalence - Depressive disorders - Sex: Female - Age: Age-standardized (Percent)': 'Depression_Female',\n",
    "           'Prevalence - Depressive disorders - Sex: Male - Age: Age-standardized (Percent)': 'Depression_Male'})\n",
    "\n",
    "df_depression_filtered = df_depression[(df_depression['Year'] >= 1990) & (df_depression['Year'] <= 2017)]\n",
    "\n",
    "df_depression_mean = df_depression_filtered.groupby('Year').agg({\n",
    "  'Depression_Male': 'mean',\n",
    "  'Depression_Female': 'mean'\n",
    "})\n",
    "\n",
    "total_df_depression_mean = df_depression_mean['Depression_Male'] + df_depression_mean['Depression_Female']\n",
    "\n",
    "total_df_depression_mean"
   ],
   "metadata": {
    "collapsed": false,
    "ExecuteTime": {
     "end_time": "2024-05-22T13:00:09.680751900Z",
     "start_time": "2024-05-22T13:00:09.651565300Z"
    }
   },
   "id": "2836513d0bb3928b"
  },
  {
   "cell_type": "code",
   "execution_count": 90,
   "outputs": [
    {
     "data": {
      "text/plain": "Entity                                                                               0\nCode                                                                              2316\nYear                                                                                 0\nPrevalence - Eating disorders - Sex: Male - Age: Age-standardized (Percent)      49555\nPrevalence - Eating disorders - Sex: Female - Age: Age-standardized (Percent)    49555\nPopulation (historical estimates)                                                  739\nContinent                                                                        56110\ndtype: int64"
     },
     "execution_count": 90,
     "metadata": {},
     "output_type": "execute_result"
    }
   ],
   "source": [
    "# Eating\n",
    "df_eating = pd.read_csv(\"sample/eating-disorders-in-males-vs-females.csv\")\n",
    "df_eating.isnull().sum()"
   ],
   "metadata": {
    "collapsed": false,
    "ExecuteTime": {
     "end_time": "2024-05-22T13:00:09.737579200Z",
     "start_time": "2024-05-22T13:00:09.668602800Z"
    }
   },
   "id": "68117a3f5ce41a44"
  },
  {
   "cell_type": "code",
   "execution_count": 91,
   "outputs": [
    {
     "data": {
      "text/plain": "Entity                                                                           0\nCode                                                                             0\nYear                                                                             0\nPrevalence - Eating disorders - Sex: Male - Age: Age-standardized (Percent)      1\nPrevalence - Eating disorders - Sex: Female - Age: Age-standardized (Percent)    1\nPopulation (historical estimates)                                                1\nContinent                                                                        0\ndtype: int64"
     },
     "execution_count": 91,
     "metadata": {},
     "output_type": "execute_result"
    }
   ],
   "source": [
    "df_eating = df_eating.fillna(method='ffill')\n",
    "df_eating.isnull().sum()"
   ],
   "metadata": {
    "collapsed": false,
    "ExecuteTime": {
     "end_time": "2024-05-22T13:00:09.777360100Z",
     "start_time": "2024-05-22T13:00:09.729444100Z"
    }
   },
   "id": "b71622b2e039cf08"
  },
  {
   "cell_type": "code",
   "execution_count": 92,
   "outputs": [
    {
     "data": {
      "text/plain": "Year\n1990    0.405316\n1991    0.403811\n1992    0.404357\n1993    0.405005\n1994    0.405724\n1995    0.406447\n1996    0.407409\n1997    0.408697\n1998    0.410193\n1999    0.411900\n2000    0.415521\n2001    0.417927\n2002    0.421073\n2003    0.424638\n2004    0.428115\n2005    0.431091\n2006    0.433939\n2007    0.437272\n2008    0.440761\n2009    0.443965\n2010    0.446655\n2011    0.448924\n2012    0.451192\n2013    0.453310\n2014    0.455500\n2015    0.447271\n2016    0.461217\n2017    0.464348\ndtype: float64"
     },
     "execution_count": 92,
     "metadata": {},
     "output_type": "execute_result"
    }
   ],
   "source": [
    "df_eating = df_eating.rename(\n",
    "  columns={'Prevalence - Eating disorders - Sex: Male - Age: Age-standardized (Percent)': 'Eating_Male',\n",
    "           'Prevalence - Eating disorders - Sex: Female - Age: Age-standardized (Percent)': 'Eating_Female'})\n",
    "\n",
    "df_eating_filtered = df_eating[(df_eating['Year'] >= 1990) & (df_eating['Year'] <= 2017)]\n",
    "\n",
    "df_eating_mean = df_eating_filtered.groupby('Year').agg({\n",
    "  'Eating_Male': 'mean',\n",
    "  'Eating_Female': 'mean'\n",
    "})\n",
    "\n",
    "total_df_eating_mean = df_eating_mean['Eating_Male'] + df_eating_mean['Eating_Female']\n",
    "\n",
    "total_df_eating_mean"
   ],
   "metadata": {
    "collapsed": false,
    "ExecuteTime": {
     "end_time": "2024-05-22T13:00:09.813201Z",
     "start_time": "2024-05-22T13:00:09.785365500Z"
    }
   },
   "id": "6a0df29fa3cdf28a"
  },
  {
   "cell_type": "code",
   "execution_count": 93,
   "outputs": [
    {
     "data": {
      "text/plain": "Entity                                                                            0\nCode                                                                           2316\nYear                                                                              0\nPrevalence - Schizophrenia - Sex: Male - Age: Age-standardized (Percent)      49555\nPrevalence - Schizophrenia - Sex: Female - Age: Age-standardized (Percent)    49555\nPopulation (historical estimates)                                               739\nContinent                                                                     56110\ndtype: int64"
     },
     "execution_count": 93,
     "metadata": {},
     "output_type": "execute_result"
    }
   ],
   "source": [
    "# Schizo\n",
    "df_schizo = pd.read_csv('sample/schizophrenia-in-males-vs-females.csv')\n",
    "df_schizo.isnull().sum()"
   ],
   "metadata": {
    "collapsed": false,
    "ExecuteTime": {
     "end_time": "2024-05-22T13:00:09.885658700Z",
     "start_time": "2024-05-22T13:00:09.808199100Z"
    }
   },
   "id": "6c937a9fb9485a71"
  },
  {
   "cell_type": "code",
   "execution_count": 94,
   "outputs": [
    {
     "data": {
      "text/plain": "Entity                                                                        0\nCode                                                                          0\nYear                                                                          0\nPrevalence - Schizophrenia - Sex: Male - Age: Age-standardized (Percent)      1\nPrevalence - Schizophrenia - Sex: Female - Age: Age-standardized (Percent)    1\nPopulation (historical estimates)                                             1\nContinent                                                                     0\ndtype: int64"
     },
     "execution_count": 94,
     "metadata": {},
     "output_type": "execute_result"
    }
   ],
   "source": [
    "df_schizo = df_schizo.fillna(method='ffill')\n",
    "df_schizo.isnull().sum()"
   ],
   "metadata": {
    "collapsed": false,
    "ExecuteTime": {
     "end_time": "2024-05-22T13:00:09.931813100Z",
     "start_time": "2024-05-22T13:00:09.885658700Z"
    }
   },
   "id": "e581b6ed5928767f"
  },
  {
   "cell_type": "code",
   "execution_count": 95,
   "outputs": [
    {
     "data": {
      "text/plain": "Year\n1990    0.559838\n1991    0.559168\n1992    0.559488\n1993    0.559778\n1994    0.560027\n1995    0.560216\n1996    0.560337\n1997    0.560431\n1998    0.560538\n1999    0.560697\n2000    0.561934\n2001    0.562433\n2002    0.563225\n2003    0.564135\n2004    0.564976\n2005    0.565553\n2006    0.565996\n2007    0.566533\n2008    0.567094\n2009    0.567608\n2010    0.567997\n2011    0.568386\n2012    0.568903\n2013    0.569459\n2014    0.569963\n2015    0.569491\n2016    0.570701\n2017    0.571070\ndtype: float64"
     },
     "execution_count": 95,
     "metadata": {},
     "output_type": "execute_result"
    }
   ],
   "source": [
    "df_schizo = df_schizo.rename(\n",
    "  columns={'Prevalence - Schizophrenia - Sex: Female - Age: Age-standardized (Percent)': 'Schizo_Female',\n",
    "           'Prevalence - Schizophrenia - Sex: Male - Age: Age-standardized (Percent)': 'Schizo_Male'})\n",
    "\n",
    "df_schizo_filtered = df_schizo[(df_schizo['Year'] >= 1990) & (df_schizo['Year'] <= 2017)]\n",
    "\n",
    "df_schizo_mean = df_schizo_filtered.groupby('Year').agg({\n",
    "  'Schizo_Male': 'mean',\n",
    "  'Schizo_Female': 'mean'\n",
    "})\n",
    "\n",
    "total_df_schizo_mean = df_schizo_mean['Schizo_Male'] + df_schizo_mean['Schizo_Female']\n",
    "\n",
    "total_df_schizo_mean"
   ],
   "metadata": {
    "collapsed": false,
    "ExecuteTime": {
     "end_time": "2024-05-22T13:00:09.954241400Z",
     "start_time": "2024-05-22T13:00:09.932812700Z"
    }
   },
   "id": "235f9df4046cc8d9"
  },
  {
   "cell_type": "code",
   "execution_count": 96,
   "outputs": [
    {
     "data": {
      "text/plain": "<Figure size 1050x525 with 1 Axes>",
      "image/png": "[encoded data removed]"
     },
     "metadata": {},
     "output_type": "display_data"
    },
    {
     "name": "stdout",
     "output_type": "stream",
     "text": [
      "Average suicides in males: 2318.298\n",
      "Average suicides in females: 4055.352\n"
     ]
    },
    {
     "data": {
      "text/plain": "<Figure size 1050x525 with 1 Axes>",
      "image/png": "[encoded data removed]"
     },
     "metadata": {},
     "output_type": "display_data"
    },
    {
     "name": "stdout",
     "output_type": "stream",
     "text": [
      "Average suicides in males: 14363.378\n",
      "Average suicides in females: 15110.928\n"
     ]
    },
    {
     "data": {
      "text/plain": "<Figure size 1050x525 with 1 Axes>",
      "image/png": "[encoded data removed]"
     },
     "metadata": {},
     "output_type": "display_data"
    },
    {
     "name": "stdout",
     "output_type": "stream",
     "text": [
      "Average suicides in males: 254.997\n",
      "Average suicides in females: 465.36\n"
     ]
    },
    {
     "data": {
      "text/plain": "<Figure size 1050x525 with 1 Axes>",
      "image/png": "[encoded data removed]"
     },
     "metadata": {},
     "output_type": "display_data"
    },
    {
     "name": "stdout",
     "output_type": "stream",
     "text": [
      "Average suicides in males: 347.156\n",
      "Average suicides in females: 138.798\n"
     ]
    }
   ],
   "source": [
    "# Monte Carlo simulation\n",
    "\n",
    "'''\n",
    "dictionary yang memetakan setiap penyakit mental ke rentang prevalensinya (dalam persentase) untuk laki-laki dan perempuan.\n",
    "Nilai-nilai ini diambil dari data diatas.\n",
    "'''\n",
    "prevalence_range = {\n",
    "  'schizophrenia': {'male': (total_df_schizo_mean.min(), total_df_schizo_mean.max()),\n",
    "                    'female': (total_df_schizo_mean.min(), total_df_schizo_mean.max())},\n",
    "  'anxiety': {'male': (total_df_anxiety_mean.min(), total_df_anxiety_mean.max()),\n",
    "              'female': (total_df_anxiety_mean.min(), total_df_anxiety_mean.max())},\n",
    "  'bipolar': {'male': (total_df_bipolar_mean.min(), total_df_bipolar_mean.max()),\n",
    "              'female': (total_df_bipolar_mean.min(), total_df_bipolar_mean.max())},\n",
    "  'eating_disorders': {'male': (total_df_eating_mean.min(), total_df_eating_mean.max()),\n",
    "                       'female': (total_df_eating_mean.min(), total_df_eating_mean.max())},\n",
    "  'depression': {'male': (total_df_depression_mean.min(), total_df_depression_mean.max()),\n",
    "                 'female': (total_df_depression_mean.min(), total_df_depression_mean.max())},\n",
    "}\n",
    "\n",
    "'''\n",
    "dictionary yang memetakan setiap penyakit mental ke probabilitas bunuh diri yang terkait\n",
    "'''\n",
    "suicide_risk = {\n",
    "  'schizophrenia': 0.1,\n",
    "  'anxiety': 0.05,\n",
    "  'bipolar': 0.08,\n",
    "  'eating_disorders': 0.02,\n",
    "  'depression': 0.07,\n",
    "}\n",
    "\n",
    "def run_simulation(pop_male, pop_female, prevalence_range, suicide_risk, num_points=10):\n",
    "  total_suicide_male = 0\n",
    "  total_suicide_female = 0\n",
    "\n",
    "  # Simulasi untuk laki-laki\n",
    "  for disease in prevalence_range.keys():\n",
    "    min_val, max_val = prevalence_range[disease]['male']\n",
    "    preval_values = np.linspace(min_val, max_val, num_points)\n",
    "    num_male_with_disease = int(pop_male * np.random.choice(preval_values) / 100)\n",
    "    num_suicide_male = np.random.binomial(num_male_with_disease, suicide_risk[disease])\n",
    "    total_suicide_male += num_suicide_male\n",
    "\n",
    "  # Simulasi untuk perempuan\n",
    "  for disease in prevalence_range.keys():\n",
    "    min_val, max_val = prevalence_range[disease]['female']\n",
    "    preval_values = np.linspace(min_val, max_val, num_points)\n",
    "    num_female_with_disease = int(pop_female * np.random.choice(preval_values) / 100)\n",
    "    num_suicide_female = np.random.binomial(num_female_with_disease, suicide_risk[disease])\n",
    "    total_suicide_female += num_suicide_female\n",
    "\n",
    "  return total_suicide_male, total_suicide_female\n",
    "\n",
    "\n",
    "'''\n",
    "list dari tuple, di mana setiap tuple berisi jumlah populasi laki-laki dan perempuan yang akan digunakan dalam simulasi.\n",
    "'''\n",
    "populations = [(200000, 350000), (1239876, 1304020), (22009, 40210), (30000, 12000)]\n",
    "iterations = 1000   # jumlah iterasi yang akan dilakukan dalam simulasi Monte Carlo.\n",
    "\n",
    "# Menjalankan simulasi\n",
    "for pop_male, pop_female in populations:\n",
    "  results_male = []\n",
    "  results_female = []\n",
    "  for _ in range(iterations):\n",
    "    suicide_male, suicide_female = run_simulation(pop_male, pop_female, prevalence_range, suicide_risk)\n",
    "    results_male.append(suicide_male)\n",
    "    results_female.append(suicide_female)\n",
    "\n",
    "  # Plotting hasil simulasi\n",
    "  plt.figure(figsize=(14, 7))\n",
    "  plt.hist(results_male, bins=30, alpha=0.7, label='Male Suicides')\n",
    "  plt.hist(results_female, bins=30, alpha=0.7, label='Female Suicides')\n",
    "  plt.xlabel('Number of Suicides')\n",
    "  plt.ylabel('Frequency')\n",
    "  plt.title(\n",
    "    f'Monte Carlo Simulation of Suicide Cases Due to Mental Health Issues (Population: {pop_male} males, {pop_female} females)')\n",
    "  plt.legend()\n",
    "  plt.show()\n",
    "\n",
    "  # Summary statistics\n",
    "  mean_male = np.mean(results_male)\n",
    "  mean_female = np.mean(results_female)\n",
    "  print(f'Average suicides in males: {mean_male}')\n",
    "  print(f'Average suicides in females: {mean_female}')\n"
   ],
   "metadata": {
    "collapsed": false,
    "ExecuteTime": {
     "end_time": "2024-05-22T13:00:11.294722900Z",
     "start_time": "2024-05-22T13:00:09.975774900Z"
    }
   },
   "id": "a68f83ae5644d718"
  },
  {
   "cell_type": "code",
   "execution_count": 96,
   "outputs": [],
   "source": [],
   "metadata": {
    "collapsed": false,
    "ExecuteTime": {
     "end_time": "2024-05-22T13:00:11.306791200Z",
     "start_time": "2024-05-22T13:00:11.283703800Z"
    }
   },
   "id": "b50c604f2a8f4477"
  }
 ],
 "metadata": {
  "kernelspec": {
   "display_name": "Python 3 (ipykernel)",
   "language": "python",
   "name": "python3"
  },
  "language_info": {
   "codemirror_mode": {
    "name": "ipython",
    "version": 3
   },
   "file_extension": ".py",
   "mimetype": "text/x-python",
   "name": "python",
   "nbconvert_exporter": "python",
   "pygments_lexer": "ipython3",
   "version": "3.9.16"
  }
 },
 "nbformat": 4,
 "nbformat_minor": 5
}
