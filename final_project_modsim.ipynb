{
 "cells": [
  {
   "cell_type": "code",
   "execution_count": 141,
   "id": "d672ae31-2320-429f-b68a-bebe6a5606eb",
   "metadata": {
    "ExecuteTime": {
     "end_time": "2024-05-17T12:47:15.751650600Z",
     "start_time": "2024-05-17T12:47:15.744123100Z"
    }
   },
   "outputs": [],
   "source": [
    "import pandas as pd\n",
    "\n",
    "# install Pint if necessary\n",
    "try:\n",
    "    from pint import UnitRegistry\n",
    "except ImportError:\n",
    "    !pip install pint"
   ]
  },
  {
   "cell_type": "code",
   "execution_count": 142,
   "id": "c7c321af-bef6-4817-938e-b456e3b762e3",
   "metadata": {
    "ExecuteTime": {
     "end_time": "2024-05-17T12:47:15.778320400Z",
     "start_time": "2024-05-17T12:47:15.755652100Z"
    }
   },
   "outputs": [],
   "source": [
    "# download modsim.py if necessary\n",
    "\n",
    "from os.path import basename, exists\n",
    "\n",
    "def download(url):\n",
    "    filename = basename(url)\n",
    "    if not exists(filename):\n",
    "        from urllib.request import urlretrieve\n",
    "        local, _ = urlretrieve(url, filename)\n",
    "        print('Downloaded ' + local)\n",
    "    \n",
    "download('https://github.com/AllenDowney/ModSimPy/raw/master/' +\n",
    "         'modsim.py')"
   ]
  },
  {
   "cell_type": "code",
   "execution_count": 143,
   "id": "59bd4401-93f3-4d67-a75d-a269be47b8a0",
   "metadata": {
    "ExecuteTime": {
     "end_time": "2024-05-17T12:47:16.731831400Z",
     "start_time": "2024-05-17T12:47:15.767800500Z"
    }
   },
   "outputs": [
    {
     "name": "stderr",
     "output_type": "stream",
     "text": [
      "C:\\Users\\katana\\AppData\\Local\\Temp\\ipykernel_18968\\2974179843.py:12: DtypeWarning: Columns (4,5) have mixed types. Specify dtype option on import or set low_memory=False.\n",
      "  df = pd.read_csv(file_path)\n"
     ]
    }
   ],
   "source": [
    "# Menghapus kolom yang tidak diperlukan\n",
    "data_have_index = [\n",
    "    \"sample/anxiety-disorders-males-vs-females.csv\",\n",
    "    \"sample/bipolar-disorder-in-males-vs-females.csv\",\n",
    "    \"sample/depression-males-vs-females.csv\",\n",
    "    \"sample/eating-disorders-in-males-vs-females.csv\",\n",
    "    \"sample/Mental health Depression disorder Data.csv\",\n",
    "    \"sample/schizophrenia-in-males-vs-females.csv\"\n",
    "]\n",
    "\n",
    "for file_path in data_have_index:\n",
    "    df = pd.read_csv(file_path)\n",
    "    if 'index' in df.columns:\n",
    "        df = df.drop('index', axis=1)\n",
    "    df.to_csv(file_path, index=False)"
   ]
  },
  {
   "cell_type": "code",
   "execution_count": 144,
   "outputs": [
    {
     "name": "stderr",
     "output_type": "stream",
     "text": [
      "C:\\Users\\katana\\AppData\\Local\\Temp\\ipykernel_18968\\1967768737.py:2: FutureWarning: The default value of numeric_only in DataFrameGroupBy.mean is deprecated. In a future version, numeric_only will default to False. Either specify numeric_only or select only columns which should be valid for the function.\n",
      "  df_grouped_bundir = df_grouped_bundir.groupby('Year').mean().reset_index()\n"
     ]
    }
   ],
   "source": [
    "df_grouped_bundir = pd.read_csv(\"sample/suicide-rates-among-young-people.csv\")\n",
    "df_grouped_bundir = df_grouped_bundir.groupby('Year').mean().reset_index()"
   ],
   "metadata": {
    "collapsed": false,
    "ExecuteTime": {
     "end_time": "2024-05-17T12:47:16.747859400Z",
     "start_time": "2024-05-17T12:47:16.731831400Z"
    }
   },
   "id": "1b30c0037289c0a"
  },
  {
   "cell_type": "code",
   "execution_count": 145,
   "outputs": [
    {
     "data": {
      "text/plain": "Index(['Year',\n       'Death rate per 100,000 people - Cause: Self-harm - Sex: Both sexes - Age group: YEARS15-19',\n       'Death rate per 100,000 people - Cause: Self-harm - Sex: Both sexes - Age group: YEARS20-24',\n       'Death rate per 100,000 people - Cause: Self-harm - Sex: Both sexes - Age group: YEARS25-34'],\n      dtype='object')"
     },
     "execution_count": 145,
     "metadata": {},
     "output_type": "execute_result"
    }
   ],
   "source": [
    "df_grouped_bundir.columns"
   ],
   "metadata": {
    "collapsed": false,
    "ExecuteTime": {
     "end_time": "2024-05-17T12:47:16.793055500Z",
     "start_time": "2024-05-17T12:47:16.749859400Z"
    }
   },
   "id": "d57ecf3ffd5f2e5d"
  },
  {
   "cell_type": "code",
   "execution_count": 146,
   "outputs": [
    {
     "name": "stdout",
     "output_type": "stream",
     "text": [
      "    Year  Change_15_19  Change_20_24  Change_25_34\n",
      "0   2000           8.0          13.0          14.0\n",
      "1   2001           8.0          13.0          14.0\n",
      "2   2002           8.0          13.0          14.0\n",
      "3   2003           7.0          12.0          13.0\n",
      "4   2004           7.0          12.0          13.0\n",
      "5   2005           7.0          12.0          13.0\n",
      "6   2006           7.0          12.0          13.0\n",
      "7   2007           7.0          12.0          13.0\n",
      "8   2008           7.0          11.0          13.0\n",
      "9   2009           7.0          11.0          13.0\n",
      "10  2010           7.0          11.0          13.0\n",
      "11  2011           7.0          11.0          13.0\n",
      "12  2012           7.0          11.0          12.0\n",
      "13  2013           7.0          10.0          12.0\n",
      "14  2014           7.0          10.0          12.0\n",
      "15  2015           7.0          10.0          12.0\n",
      "16  2016           6.0          10.0          11.0\n",
      "17  2017           6.0          10.0          11.0\n",
      "18  2018           6.0           9.0          11.0\n",
      "19  2019           6.0           9.0          11.0\n"
     ]
    }
   ],
   "source": [
    "df_grouped_bundir['Change_15_19'] = df_grouped_bundir['Death rate per 100,000 people - Cause: Self-harm - Sex: Both sexes - Age group: YEARS15-19'].round()\n",
    "df_grouped_bundir['Change_20_24'] = df_grouped_bundir['Death rate per 100,000 people - Cause: Self-harm - Sex: Both sexes - Age group: YEARS20-24'].round()\n",
    "df_grouped_bundir['Change_25_34'] = df_grouped_bundir['Death rate per 100,000 people - Cause: Self-harm - Sex: Both sexes - Age group: YEARS25-34'].round()\n",
    "\n",
    "print(df_grouped_bundir[['Year', 'Change_15_19', 'Change_20_24', 'Change_25_34']])"
   ],
   "metadata": {
    "collapsed": false,
    "ExecuteTime": {
     "end_time": "2024-05-17T12:47:16.799550300Z",
     "start_time": "2024-05-17T12:47:16.764648900Z"
    }
   },
   "id": "6812dbfbeb333d46"
  },
  {
   "cell_type": "code",
   "execution_count": 147,
   "outputs": [
    {
     "name": "stdout",
     "output_type": "stream",
     "text": [
      "    Year  Change_15_19  Change_20_24  Change_25_34  Mean_Total\n",
      "0   2000           8.0          13.0          14.0        35.0\n",
      "1   2001           8.0          13.0          14.0        35.0\n",
      "2   2002           8.0          13.0          14.0        35.0\n",
      "3   2003           7.0          12.0          13.0        32.0\n",
      "4   2004           7.0          12.0          13.0        32.0\n",
      "5   2005           7.0          12.0          13.0        32.0\n",
      "6   2006           7.0          12.0          13.0        32.0\n",
      "7   2007           7.0          12.0          13.0        32.0\n",
      "8   2008           7.0          11.0          13.0        31.0\n",
      "9   2009           7.0          11.0          13.0        31.0\n",
      "10  2010           7.0          11.0          13.0        31.0\n",
      "11  2011           7.0          11.0          13.0        31.0\n",
      "12  2012           7.0          11.0          12.0        30.0\n",
      "13  2013           7.0          10.0          12.0        29.0\n",
      "14  2014           7.0          10.0          12.0        29.0\n",
      "15  2015           7.0          10.0          12.0        29.0\n",
      "16  2016           6.0          10.0          11.0        27.0\n",
      "17  2017           6.0          10.0          11.0        27.0\n",
      "18  2018           6.0           9.0          11.0        26.0\n",
      "19  2019           6.0           9.0          11.0        26.0\n"
     ]
    }
   ],
   "source": [
    "df_grouped_bundir['Mean_Total'] = df_grouped_bundir[['Change_15_19', 'Change_20_24', 'Change_25_34']].sum(axis=1).round()\n",
    "\n",
    "print(df_grouped_bundir[['Year', 'Change_15_19', 'Change_20_24', 'Change_25_34', 'Mean_Total']])"
   ],
   "metadata": {
    "collapsed": false,
    "ExecuteTime": {
     "end_time": "2024-05-17T12:47:16.800563200Z",
     "start_time": "2024-05-17T12:47:16.778451400Z"
    }
   },
   "id": "ef66f44a2888be12"
  },
  {
   "cell_type": "code",
   "execution_count": 166,
   "outputs": [
    {
     "data": {
      "text/plain": "Year\n2000    9.0\n2001    9.0\n2002    9.0\n2003    9.0\n2004    9.0\n2005    9.0\n2006    9.0\n2007    9.0\n2008    9.0\n2009    9.0\n2010    9.0\n2011    9.0\n2012    9.0\n2013    9.0\n2014    9.0\n2015    9.0\n2016    9.0\n2017    9.0\n2018    9.0\n2019    9.0\ndtype: float64"
     },
     "execution_count": 166,
     "metadata": {},
     "output_type": "execute_result"
    }
   ],
   "source": [
    "# Anxiety\n",
    "df_anxiety = pd.read_csv(\"sample/anxiety-disorders-males-vs-females.csv\")\n",
    "# df_anxiety.head(20000)\n",
    "# df_anxiety.columns\n",
    "\n",
    "df_anxiety_filtered = df_anxiety[(df_anxiety['Year'] >= 2000) & (df_anxiety['Year'] <= 2019)]\n",
    "\n",
    "df_anxiety_mean = df_anxiety_filtered.groupby('Year').agg({\n",
    "    'Prevalence - Anxiety disorders - Sex: Male - Age: Age-standardized (Percent)': 'mean',\n",
    "    'Prevalence - Anxiety disorders - Sex: Female - Age: Age-standardized (Percent)': 'mean'\n",
    "})\n",
    "\n",
    "total_df_anxiety_mean =  df_anxiety_mean['Prevalence - Anxiety disorders - Sex: Female - Age: Age-standardized (Percent)'] + df_anxiety_mean['Prevalence - Anxiety disorders - Sex: Male - Age: Age-standardized (Percent)']\n",
    "\n",
    "total_df_anxiety_mean.round()\n"
   ],
   "metadata": {
    "collapsed": false,
    "ExecuteTime": {
     "end_time": "2024-05-17T13:32:25.138079100Z",
     "start_time": "2024-05-17T13:32:25.095701600Z"
    }
   },
   "id": "59659271842840bf"
  },
  {
   "cell_type": "code",
   "execution_count": 148,
   "outputs": [],
   "source": [],
   "metadata": {
    "collapsed": false,
    "ExecuteTime": {
     "end_time": "2024-05-17T12:47:16.917485100Z",
     "start_time": "2024-05-17T12:47:16.873164700Z"
    }
   },
   "id": "2da6fd203815cbb6"
  }
 ],
 "metadata": {
  "kernelspec": {
   "display_name": "Python 3 (ipykernel)",
   "language": "python",
   "name": "python3"
  },
  "language_info": {
   "codemirror_mode": {
    "name": "ipython",
    "version": 3
   },
   "file_extension": ".py",
   "mimetype": "text/x-python",
   "name": "python",
   "nbconvert_exporter": "python",
   "pygments_lexer": "ipython3",
   "version": "3.9.16"
  }
 },
 "nbformat": 4,
 "nbformat_minor": 5
}
