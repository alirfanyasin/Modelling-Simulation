{
 "cells": [
  {
   "cell_type": "code",
   "execution_count": null,
   "id": "d672ae31-2320-429f-b68a-bebe6a5606eb",
   "metadata": {},
   "outputs": [],
   "source": [
    "import pandas as pd\n",
    "\n",
    "# install Pint if necessary\n",
    "try:\n",
    "    from pint import UnitRegistry\n",
    "except ImportError:\n",
    "    !pip install pint"
   ]
  },
  {
   "cell_type": "code",
   "execution_count": null,
   "id": "c7c321af-bef6-4817-938e-b456e3b762e3",
   "metadata": {},
   "outputs": [],
   "source": [
    "# download modsim.py if necessary\n",
    "\n",
    "from os.path import basename, exists\n",
    "\n",
    "def download(url):\n",
    "    filename = basename(url)\n",
    "    if not exists(filename):\n",
    "        from urllib.request import urlretrieve\n",
    "        local, _ = urlretrieve(url, filename)\n",
    "        print('Downloaded ' + local)\n",
    "    \n",
    "download('https://github.com/AllenDowney/ModSimPy/raw/master/' +\n",
    "         'modsim.py')"
   ]
  },
  {
   "cell_type": "code",
   "execution_count": null,
   "id": "59bd4401-93f3-4d67-a75d-a269be47b8a0",
   "metadata": {},
   "outputs": [],
   "source": [
    "# Menghapus kolom yang tidak diperlukan\n",
    "data_have_index = [\n",
    "    \"sample/anxiety-disorders-males-vs-females.csv\",\n",
    "    \"sample/bipolar-disorder-in-males-vs-females.csv\",\n",
    "    \"sample/depression-males-vs-females.csv\",\n",
    "    \"sample/eating-disorders-in-males-vs-females.csv\",\n",
    "    \"sample/Mental health Depression disorder Data.csv\",\n",
    "    \"sample/schizophrenia-in-males-vs-females.csv\"\n",
    "]\n",
    "\n",
    "for file_path in data_have_index:\n",
    "    df = pd.read_csv(file_path)\n",
    "    if 'index' in df.columns:\n",
    "        df = df.drop('index', axis=1)\n",
    "    df.to_csv(file_path, index=False)"
   ]
  },
  {
   "cell_type": "code",
   "execution_count": null,
   "outputs": [],
   "source": [
    "df_grouped_bundir = pd.read_csv(\"sample/suicide-rates-among-young-people.csv\")\n",
    "df_grouped_bundir = df_grouped_bundir.groupby('Year').mean().reset_index()"
   ],
   "metadata": {
    "collapsed": false
   },
   "id": "1b30c0037289c0a"
  },
  {
   "cell_type": "code",
   "execution_count": null,
   "outputs": [],
   "source": [
    "df_grouped_bundir.columns"
   ],
   "metadata": {
    "collapsed": false
   },
   "id": "d57ecf3ffd5f2e5d"
  },
  {
   "cell_type": "code",
   "execution_count": null,
   "outputs": [],
   "source": [
    "df_grouped_bundir['Change_15_19'] = df_grouped_bundir['Death rate per 100,000 people - Cause: Self-harm - Sex: Both sexes - Age group: YEARS15-19'].round()\n",
    "df_grouped_bundir['Change_20_24'] = df_grouped_bundir['Death rate per 100,000 people - Cause: Self-harm - Sex: Both sexes - Age group: YEARS20-24'].round()\n",
    "df_grouped_bundir['Change_25_34'] = df_grouped_bundir['Death rate per 100,000 people - Cause: Self-harm - Sex: Both sexes - Age group: YEARS25-34'].round()\n",
    "\n",
    "print(df_grouped_bundir[['Year', 'Change_15_19', 'Change_20_24', 'Change_25_34']])"
   ],
   "metadata": {
    "collapsed": false
   },
   "id": "6812dbfbeb333d46"
  },
  {
   "cell_type": "code",
   "execution_count": null,
   "outputs": [],
   "source": [
    "df_grouped_bundir['Mean_Total'] = df_grouped_bundir[['Change_15_19', 'Change_20_24', 'Change_25_34']].sum(axis=1).round()\n",
    "\n",
    "print(df_grouped_bundir[['Year', 'Change_15_19', 'Change_20_24', 'Change_25_34', 'Mean_Total']])"
   ],
   "metadata": {
    "collapsed": false
   },
   "id": "ef66f44a2888be12"
  },
  {
   "cell_type": "code",
   "execution_count": null,
   "outputs": [],
   "source": [
    "# Anxiety\n",
    "df_anxiety = pd.read_csv(\"sample/anxiety-disorders-males-vs-females.csv\")\n",
    "# df_anxiety.head(20000)\n",
    "# df_anxiety.columns\n",
    "\n",
    "df_anxiety_filtered = df_anxiety[(df_anxiety['Year'] >= 2000) & (df_anxiety['Year'] <= 2019)]\n",
    "\n",
    "df_anxiety_mean = df_anxiety_filtered.groupby('Year').agg({\n",
    "    'Prevalence - Anxiety disorders - Sex: Male - Age: Age-standardized (Percent)': 'mean',\n",
    "    'Prevalence - Anxiety disorders - Sex: Female - Age: Age-standardized (Percent)': 'mean'\n",
    "})\n",
    "\n",
    "total_df_anxiety_mean =  df_anxiety_mean['Prevalence - Anxiety disorders - Sex: Female - Age: Age-standardized (Percent)'] + df_anxiety_mean['Prevalence - Anxiety disorders - Sex: Male - Age: Age-standardized (Percent)']\n",
    "\n",
    "total_df_anxiety_mean.round()\n"
   ],
   "metadata": {
    "collapsed": false
   },
   "id": "59659271842840bf"
  },
  {
   "cell_type": "code",
   "execution_count": null,
   "outputs": [],
   "source": [],
   "metadata": {
    "collapsed": false
   },
   "id": "2da6fd203815cbb6"
  }
 ],
 "metadata": {
  "kernelspec": {
   "display_name": "Python 3 (ipykernel)",
   "language": "python",
   "name": "python3"
  },
  "language_info": {
   "codemirror_mode": {
    "name": "ipython",
    "version": 3
   },
   "file_extension": ".py",
   "mimetype": "text/x-python",
   "name": "python",
   "nbconvert_exporter": "python",
   "pygments_lexer": "ipython3",
   "version": "3.9.16"
  }
 },
 "nbformat": 4,
 "nbformat_minor": 5
}
