{
 "cells": [
  {
   "cell_type": "code",
   "execution_count": null,
   "outputs": [],
   "source": [
    "import pandas as pd\n",
    "from modsim import *\n",
    "import matplotlib.pyplot as plt\n",
    "import numpy as np"
   ],
   "metadata": {
    "collapsed": false
   },
   "id": "41341a922e37988"
  },
  {
   "cell_type": "code",
   "execution_count": null,
   "outputs": [],
   "source": [
    "# install Pint if necessary\n",
    "try:\n",
    "  from pint import UnitRegistry\n",
    "except ImportError:\n",
    "  !pip install pint"
   ],
   "metadata": {
    "collapsed": false
   },
   "id": "d672ae31-2320-429f-b68a-bebe6a5606eb"
  },
  {
   "cell_type": "code",
   "execution_count": null,
   "outputs": [],
   "source": [
    "# download modsim.py if necessary\n",
    "\n",
    "from os.path import basename, exists\n",
    "\n",
    "\n",
    "def download(url):\n",
    "  filename = basename(url)\n",
    "  if not exists(filename):\n",
    "    from urllib.request import urlretrieve\n",
    "    local, _ = urlretrieve(url, filename)\n",
    "    print('Downloaded ' + local)\n",
    "\n",
    "\n",
    "download('https://github.com/AllenDowney/ModSimPy/raw/master/' +\n",
    "         'modsim.py')"
   ],
   "metadata": {
    "collapsed": false
   },
   "id": "c7c321af-bef6-4817-938e-b456e3b762e3"
  },
  {
   "cell_type": "code",
   "execution_count": null,
   "id": "59bd4401-93f3-4d67-a75d-a269be47b8a0",
   "metadata": {},
   "outputs": [],
   "source": [
    "# Menghapus kolom yang tidak diperlukan\n",
    "data_have_index = [\n",
    "  \"sample/anxiety-disorders-males-vs-females.csv\",\n",
    "  \"sample/bipolar-disorder-in-males-vs-females.csv\",\n",
    "  \"sample/depression-males-vs-females.csv\",\n",
    "  \"sample/eating-disorders-in-males-vs-females.csv\",\n",
    "  \"sample/Mental health Depression disorder Data.csv\",\n",
    "  \"sample/schizophrenia-in-males-vs-females.csv\"\n",
    "]\n",
    "\n",
    "for file_path in data_have_index:\n",
    "  df = pd.read_csv(file_path)\n",
    "  if 'index' in df.columns:\n",
    "    df = df.drop('index', axis=1)\n",
    "  df.to_csv(file_path, index=False)"
   ]
  },
  {
   "cell_type": "code",
   "execution_count": null,
   "outputs": [],
   "source": [
    "df_grouped_bundir = pd.read_csv(\"sample/suicide-rates-among-young-people.csv\")\n",
    "df_grouped_bundir = df_grouped_bundir.groupby('Year').mean().reset_index()"
   ],
   "metadata": {
    "collapsed": false
   },
   "id": "1b30c0037289c0a"
  },
  {
   "cell_type": "code",
   "execution_count": null,
   "outputs": [],
   "source": [
    "df_grouped_bundir.columns"
   ],
   "metadata": {
    "collapsed": false
   },
   "id": "d57ecf3ffd5f2e5d"
  },
  {
   "cell_type": "code",
   "execution_count": null,
   "outputs": [],
   "source": [
    "df_grouped_bundir['Change_15_19'] = df_grouped_bundir[\n",
    "  'Death rate per 100,000 people - Cause: Self-harm - Sex: Both sexes - Age group: YEARS15-19']\n",
    "df_grouped_bundir['Change_20_24'] = df_grouped_bundir[\n",
    "  'Death rate per 100,000 people - Cause: Self-harm - Sex: Both sexes - Age group: YEARS20-24']\n",
    "df_grouped_bundir['Change_25_34'] = df_grouped_bundir[\n",
    "  'Death rate per 100,000 people - Cause: Self-harm - Sex: Both sexes - Age group: YEARS25-34']\n",
    "\n",
    "df_grouped_bundir['Percentage_Bundir'] = ((df_grouped_bundir[\n",
    "                                             'Death rate per 100,000 people - Cause: Self-harm - Sex: Both sexes - Age group: YEARS15-19'] +\n",
    "                                           df_grouped_bundir[\n",
    "                                             'Death rate per 100,000 people - Cause: Self-harm - Sex: Both sexes - Age group: YEARS20-24'] +\n",
    "                                           df_grouped_bundir[\n",
    "                                             'Death rate per 100,000 people - Cause: Self-harm - Sex: Both sexes - Age group: YEARS25-34']) / 300000) * 100\n",
    "\n",
    "print(f\"Minimal: {df_grouped_bundir[['Percentage_Bundir']].min()}\")\n",
    "print(f\"Maximal: {df_grouped_bundir[['Percentage_Bundir']].max()}\")"
   ],
   "metadata": {
    "collapsed": false
   },
   "id": "6812dbfbeb333d46"
  },
  {
   "cell_type": "code",
   "execution_count": null,
   "outputs": [],
   "source": [
    "# Anxiety\n",
    "df_anxiety = pd.read_csv(\"sample/anxiety-disorders-males-vs-females.csv\")\n",
    "df_anxiety.isnull().sum()"
   ],
   "metadata": {
    "collapsed": false
   },
   "id": "a11e2be3ce37dfc9"
  },
  {
   "cell_type": "code",
   "execution_count": null,
   "outputs": [],
   "source": [
    "df_anxiety = df_anxiety.fillna(method='ffill')\n",
    "df_anxiety.isnull().sum()"
   ],
   "metadata": {
    "collapsed": false
   },
   "id": "4d7daac2f612aaad"
  },
  {
   "cell_type": "code",
   "execution_count": null,
   "outputs": [],
   "source": [
    "df_anxiety = df_anxiety.rename(\n",
    "  columns={'Prevalence - Anxiety disorders - Sex: Female - Age: Age-standardized (Percent)': 'Anxiety_Female',\n",
    "           'Prevalence - Anxiety disorders - Sex: Male - Age: Age-standardized (Percent)': 'Anxiety_Male'})\n",
    "\n",
    "df_anxiety_filtered = df_anxiety[(df_anxiety['Year'] >= 1990) & (df_anxiety['Year'] <= 2017)]\n",
    "\n",
    "df_anxiety_mean = df_anxiety_filtered.groupby('Year').agg({\n",
    "  'Anxiety_Male': 'mean',\n",
    "  'Anxiety_Female': 'mean'\n",
    "})\n",
    "\n",
    "total_df_anxiety_mean = df_anxiety_mean['Anxiety_Female'] + df_anxiety_mean['Anxiety_Male']\n",
    "\n",
    "total_df_anxiety_mean"
   ],
   "metadata": {
    "collapsed": false
   },
   "id": "5982e0a94f904d4d"
  },
  {
   "cell_type": "code",
   "execution_count": null,
   "outputs": [],
   "source": [
    "#Bipolar\n",
    "df_bipolar = pd.read_csv(\"sample/bipolar-disorder-in-males-vs-females.csv\")\n",
    "df_bipolar.isnull().sum()"
   ],
   "metadata": {
    "collapsed": false
   },
   "id": "fa82bf0b920b2c0c"
  },
  {
   "cell_type": "code",
   "execution_count": null,
   "outputs": [],
   "source": [
    "df_bipolar = df_bipolar.fillna(method='ffill')\n",
    "df_bipolar.isnull().sum()"
   ],
   "metadata": {
    "collapsed": false
   },
   "id": "1102cb09fe4e1abb"
  },
  {
   "cell_type": "code",
   "execution_count": null,
   "outputs": [],
   "source": [
    "df_bipolar = df_bipolar.rename(\n",
    "  columns={'Prevalence - Bipolar disorder - Sex: Male - Age: Age-standardized (Percent)': 'Bipolar_Male',\n",
    "           'Prevalence - Bipolar disorder - Sex: Female - Age: Age-standardized (Percent)': 'Bipolar_Female'})\n",
    "\n",
    "df_bipolar_filtered = df_bipolar[(df_bipolar['Year'] >= 1990) & (df_bipolar['Year'] <= 2017)]\n",
    "\n",
    "df_bipolar_mean = df_bipolar_filtered.groupby('Year').agg({\n",
    "  'Bipolar_Male': 'mean',\n",
    "  'Bipolar_Female': 'mean'\n",
    "})\n",
    "\n",
    "total_df_bipolar_mean = df_bipolar_mean['Bipolar_Male'] + df_bipolar_mean['Bipolar_Female']\n",
    "\n",
    "total_df_bipolar_mean"
   ],
   "metadata": {
    "collapsed": false
   },
   "id": "368cf922a7a3e087"
  },
  {
   "cell_type": "code",
   "execution_count": null,
   "outputs": [],
   "source": [
    "#Depression\n",
    "df_depression = pd.read_csv(\"sample/depression-males-vs-females.csv\")\n",
    "df_depression.isnull().sum()"
   ],
   "metadata": {
    "collapsed": false
   },
   "id": "81d15efaf263ec1c"
  },
  {
   "cell_type": "code",
   "execution_count": null,
   "outputs": [],
   "source": [
    "df_depression = df_depression.fillna(method='ffill')\n",
    "df_depression.isnull().sum()"
   ],
   "metadata": {
    "collapsed": false
   },
   "id": "fb259b578d39b7cc"
  },
  {
   "cell_type": "code",
   "execution_count": null,
   "outputs": [],
   "source": [
    "df_depression = df_depression.rename(\n",
    "  columns={'Prevalence - Depressive disorders - Sex: Female - Age: Age-standardized (Percent)': 'Depression_Female',\n",
    "           'Prevalence - Depressive disorders - Sex: Male - Age: Age-standardized (Percent)': 'Depression_Male'})\n",
    "\n",
    "df_depression_filtered = df_depression[(df_depression['Year'] >= 1990) & (df_depression['Year'] <= 2017)]\n",
    "\n",
    "df_depression_mean = df_depression_filtered.groupby('Year').agg({\n",
    "  'Depression_Male': 'mean',\n",
    "  'Depression_Female': 'mean'\n",
    "})\n",
    "\n",
    "total_df_depression_mean = df_depression_mean['Depression_Male'] + df_depression_mean['Depression_Female']\n",
    "\n",
    "total_df_depression_mean"
   ],
   "metadata": {
    "collapsed": false
   },
   "id": "2836513d0bb3928b"
  },
  {
   "cell_type": "code",
   "execution_count": null,
   "outputs": [],
   "source": [
    "# Eating\n",
    "df_eating = pd.read_csv(\"sample/eating-disorders-in-males-vs-females.csv\")\n",
    "df_eating.isnull().sum()"
   ],
   "metadata": {
    "collapsed": false
   },
   "id": "68117a3f5ce41a44"
  },
  {
   "cell_type": "code",
   "execution_count": null,
   "outputs": [],
   "source": [
    "df_eating = df_eating.fillna(method='ffill')\n",
    "df_eating.isnull().sum()"
   ],
   "metadata": {
    "collapsed": false
   },
   "id": "b71622b2e039cf08"
  },
  {
   "cell_type": "code",
   "execution_count": null,
   "outputs": [],
   "source": [
    "df_eating = df_eating.rename(\n",
    "  columns={'Prevalence - Eating disorders - Sex: Male - Age: Age-standardized (Percent)': 'Eating_Male',\n",
    "           'Prevalence - Eating disorders - Sex: Female - Age: Age-standardized (Percent)': 'Eating_Female'})\n",
    "\n",
    "df_eating_filtered = df_eating[(df_eating['Year'] >= 1990) & (df_eating['Year'] <= 2017)]\n",
    "\n",
    "df_eating_mean = df_eating_filtered.groupby('Year').agg({\n",
    "  'Eating_Male': 'mean',\n",
    "  'Eating_Female': 'mean'\n",
    "})\n",
    "\n",
    "total_df_eating_mean = df_eating_mean['Eating_Male'] + df_eating_mean['Eating_Female']\n",
    "\n",
    "total_df_eating_mean"
   ],
   "metadata": {
    "collapsed": false
   },
   "id": "6a0df29fa3cdf28a"
  },
  {
   "cell_type": "code",
   "execution_count": null,
   "outputs": [],
   "source": [
    "# Schizo\n",
    "df_schizo = pd.read_csv('sample/schizophrenia-in-males-vs-females.csv')\n",
    "df_schizo.isnull().sum()"
   ],
   "metadata": {
    "collapsed": false
   },
   "id": "6c937a9fb9485a71"
  },
  {
   "cell_type": "code",
   "execution_count": null,
   "outputs": [],
   "source": [
    "df_schizo = df_schizo.fillna(method='ffill')\n",
    "df_schizo.isnull().sum()"
   ],
   "metadata": {
    "collapsed": false
   },
   "id": "e581b6ed5928767f"
  },
  {
   "cell_type": "code",
   "execution_count": null,
   "outputs": [],
   "source": [
    "df_schizo = df_schizo.rename(\n",
    "  columns={'Prevalence - Schizophrenia - Sex: Female - Age: Age-standardized (Percent)': 'Schizo_Female',\n",
    "           'Prevalence - Schizophrenia - Sex: Male - Age: Age-standardized (Percent)': 'Schizo_Male'})\n",
    "\n",
    "df_schizo_filtered = df_schizo[(df_schizo['Year'] >= 1990) & (df_schizo['Year'] <= 2017)]\n",
    "\n",
    "df_schizo_mean = df_schizo_filtered.groupby('Year').agg({\n",
    "  'Schizo_Male': 'mean',\n",
    "  'Schizo_Female': 'mean'\n",
    "})\n",
    "\n",
    "total_df_schizo_mean = df_schizo_mean['Schizo_Male'] + df_schizo_mean['Schizo_Female']\n",
    "\n",
    "total_df_schizo_mean"
   ],
   "metadata": {
    "collapsed": false
   },
   "id": "235f9df4046cc8d9"
  },
  {
   "cell_type": "code",
   "execution_count": null,
   "outputs": [],
   "source": [
    "# Monte Carlo simulation\n",
    "\n",
    "'''\n",
    "dictionary yang memetakan setiap penyakit mental ke rentang prevalensinya (dalam persentase) untuk laki-laki dan perempuan.\n",
    "Nilai-nilai ini diambil dari data diatas.\n",
    "'''\n",
    "prevalence_range = {\n",
    "  'schizophrenia': {'male': (total_df_schizo_mean.min(), total_df_schizo_mean.max()),\n",
    "                    'female': (total_df_schizo_mean.min(), total_df_schizo_mean.max())},\n",
    "  'anxiety': {'male': (total_df_anxiety_mean.min(), total_df_anxiety_mean.max()),\n",
    "              'female': (total_df_anxiety_mean.min(), total_df_anxiety_mean.max())},\n",
    "  'bipolar': {'male': (total_df_bipolar_mean.min(), total_df_bipolar_mean.max()),\n",
    "              'female': (total_df_bipolar_mean.min(), total_df_bipolar_mean.max())},\n",
    "  'eating_disorders': {'male': (total_df_eating_mean.min(), total_df_eating_mean.max()),\n",
    "                       'female': (total_df_eating_mean.min(), total_df_eating_mean.max())},\n",
    "  'depression': {'male': (total_df_depression_mean.min(), total_df_depression_mean.max()),\n",
    "                 'female': (total_df_depression_mean.min(), total_df_depression_mean.max())},\n",
    "}\n",
    "\n",
    "'''\n",
    "dictionary yang memetakan setiap penyakit mental ke probabilitas bunuh diri yang terkait\n",
    "'''\n",
    "suicide_risk = {\n",
    "  'schizophrenia': 0.1,\n",
    "  'anxiety': 0.05,\n",
    "  'bipolar': 0.08,\n",
    "  'eating_disorders': 0.02,\n",
    "  'depression': 0.07,\n",
    "}\n",
    "\n",
    "def run_simulation(pop_male, pop_female, prevalence_range, suicide_risk, num_points=10):\n",
    "  total_suicide_male = 0\n",
    "  total_suicide_female = 0\n",
    "\n",
    "  # Simulasi untuk laki-laki\n",
    "  for disease in prevalence_range.keys():\n",
    "    min_val, max_val = prevalence_range[disease]['male']\n",
    "    preval_values = np.linspace(min_val, max_val, num_points)\n",
    "    num_male_with_disease = int(pop_male * np.random.choice(preval_values) / 100)\n",
    "    num_suicide_male = np.random.binomial(num_male_with_disease, suicide_risk[disease])\n",
    "    total_suicide_male += num_suicide_male\n",
    "\n",
    "  # Simulasi untuk perempuan\n",
    "  for disease in prevalence_range.keys():\n",
    "    min_val, max_val = prevalence_range[disease]['female']\n",
    "    preval_values = np.linspace(min_val, max_val, num_points)\n",
    "    num_female_with_disease = int(pop_female * np.random.choice(preval_values) / 100)\n",
    "    num_suicide_female = np.random.binomial(num_female_with_disease, suicide_risk[disease])\n",
    "    total_suicide_female += num_suicide_female\n",
    "\n",
    "  return total_suicide_male, total_suicide_female\n",
    "\n",
    "\n",
    "'''\n",
    "list dari tuple, di mana setiap tuple berisi jumlah populasi laki-laki dan perempuan yang akan digunakan dalam simulasi.\n",
    "'''\n",
    "populations = [(200000, 350000), (1239876, 1304020), (22009, 40210), (30000, 12000)]\n",
    "iterations = 1000   # jumlah iterasi yang akan dilakukan dalam simulasi Monte Carlo.\n",
    "\n",
    "# Menjalankan simulasi\n",
    "for pop_male, pop_female in populations:\n",
    "  results_male = []\n",
    "  results_female = []\n",
    "  for _ in range(iterations):\n",
    "    suicide_male, suicide_female = run_simulation(pop_male, pop_female, prevalence_range, suicide_risk)\n",
    "    results_male.append(suicide_male)\n",
    "    results_female.append(suicide_female)\n",
    "\n",
    "  # Plotting hasil simulasi\n",
    "  plt.figure(figsize=(14, 7))\n",
    "  plt.hist(results_male, bins=30, alpha=0.7, label='Male Suicides')\n",
    "  plt.hist(results_female, bins=30, alpha=0.7, label='Female Suicides')\n",
    "  plt.xlabel('Number of Suicides')\n",
    "  plt.ylabel('Frequency')\n",
    "  plt.title(\n",
    "    f'Monte Carlo Simulation of Suicide Cases Due to Mental Health Issues (Population: {pop_male} males, {pop_female} females)')\n",
    "  plt.legend()\n",
    "  plt.show()\n",
    "\n",
    "  # Summary statistics\n",
    "  mean_male = np.mean(results_male)\n",
    "  mean_female = np.mean(results_female)\n",
    "  print(f'Average suicides in males: {mean_male}')\n",
    "  print(f'Average suicides in females: {mean_female}')\n"
   ],
   "metadata": {
    "collapsed": false
   },
   "id": "a68f83ae5644d718"
  },
  {
   "cell_type": "code",
   "execution_count": null,
   "outputs": [],
   "source": [],
   "metadata": {
    "collapsed": false
   },
   "id": "b50c604f2a8f4477"
  }
 ],
 "metadata": {
  "kernelspec": {
   "display_name": "Python 3 (ipykernel)",
   "language": "python",
   "name": "python3"
  },
  "language_info": {
   "codemirror_mode": {
    "name": "ipython",
    "version": 3
   },
   "file_extension": ".py",
   "mimetype": "text/x-python",
   "name": "python",
   "nbconvert_exporter": "python",
   "pygments_lexer": "ipython3",
   "version": "3.9.16"
  }
 },
 "nbformat": 4,
 "nbformat_minor": 5
}
